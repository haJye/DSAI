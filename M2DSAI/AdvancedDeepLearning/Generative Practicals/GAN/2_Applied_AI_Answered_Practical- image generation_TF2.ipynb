{
 "cells": [
  {
   "cell_type": "markdown",
   "metadata": {
    "id": "MLUnjsLdA7O9"
   },
   "source": [
    "## Packages"
   ]
  },
  {
   "cell_type": "code",
   "execution_count": null,
   "metadata": {},
   "outputs": [],
   "source": [
    "!pip uninstall tensorflow\n",
    "!pip install tensorflow==2.14"
   ]
  },
  {
   "cell_type": "code",
   "execution_count": null,
   "metadata": {
    "colab": {
     "base_uri": "https://localhost:8080/"
    },
    "id": "oChX5IitAyXk",
    "outputId": "0904e5f2-ac1c-4a8b-b1b9-948c14e6fe02"
   },
   "outputs": [
    {
     "name": "stdout",
     "output_type": "stream",
     "text": [
      "Requirement already satisfied: comet_ml in /usr/local/lib/python3.7/dist-packages (3.25.0)\n",
      "Requirement already satisfied: requests>=2.18.4 in /usr/local/lib/python3.7/dist-packages (from comet_ml) (2.23.0)\n",
      "Requirement already satisfied: wrapt>=1.11.2 in /usr/local/lib/python3.7/dist-packages (from comet_ml) (1.13.3)\n",
      "Requirement already satisfied: requests-toolbelt>=0.8.0 in /usr/local/lib/python3.7/dist-packages (from comet_ml) (0.9.1)\n",
      "Requirement already satisfied: six in /usr/local/lib/python3.7/dist-packages (from comet_ml) (1.15.0)\n",
      "Requirement already satisfied: dulwich>=0.20.6 in /usr/local/lib/python3.7/dist-packages (from comet_ml) (0.20.32)\n",
      "Requirement already satisfied: wurlitzer>=1.0.2 in /usr/local/lib/python3.7/dist-packages (from comet_ml) (3.0.2)\n",
      "Requirement already satisfied: everett[ini]>=1.0.1 in /usr/local/lib/python3.7/dist-packages (from comet_ml) (3.0.0)\n",
      "Requirement already satisfied: semantic-version>=2.8.0 in /usr/local/lib/python3.7/dist-packages (from comet_ml) (2.8.5)\n",
      "Requirement already satisfied: websocket-client>=0.55.0 in /usr/local/lib/python3.7/dist-packages (from comet_ml) (1.2.3)\n",
      "Requirement already satisfied: nvidia-ml-py3>=7.352.0 in /usr/local/lib/python3.7/dist-packages (from comet_ml) (7.352.0)\n",
      "Requirement already satisfied: jsonschema!=3.1.0,>=2.6.0 in /usr/local/lib/python3.7/dist-packages (from comet_ml) (4.3.3)\n",
      "Requirement already satisfied: certifi in /usr/local/lib/python3.7/dist-packages (from dulwich>=0.20.6->comet_ml) (2021.10.8)\n",
      "Requirement already satisfied: urllib3>=1.24.1 in /usr/local/lib/python3.7/dist-packages (from dulwich>=0.20.6->comet_ml) (1.24.3)\n",
      "Requirement already satisfied: configobj in /usr/local/lib/python3.7/dist-packages (from everett[ini]>=1.0.1->comet_ml) (5.0.6)\n",
      "Requirement already satisfied: pyrsistent!=0.17.0,!=0.17.1,!=0.17.2,>=0.14.0 in /usr/local/lib/python3.7/dist-packages (from jsonschema!=3.1.0,>=2.6.0->comet_ml) (0.18.1)\n",
      "Requirement already satisfied: importlib-metadata in /usr/local/lib/python3.7/dist-packages (from jsonschema!=3.1.0,>=2.6.0->comet_ml) (4.10.1)\n",
      "Requirement already satisfied: typing-extensions in /usr/local/lib/python3.7/dist-packages (from jsonschema!=3.1.0,>=2.6.0->comet_ml) (3.10.0.2)\n",
      "Requirement already satisfied: importlib-resources>=1.4.0 in /usr/local/lib/python3.7/dist-packages (from jsonschema!=3.1.0,>=2.6.0->comet_ml) (5.4.0)\n",
      "Requirement already satisfied: attrs>=17.4.0 in /usr/local/lib/python3.7/dist-packages (from jsonschema!=3.1.0,>=2.6.0->comet_ml) (21.4.0)\n",
      "Requirement already satisfied: zipp>=3.1.0 in /usr/local/lib/python3.7/dist-packages (from importlib-resources>=1.4.0->jsonschema!=3.1.0,>=2.6.0->comet_ml) (3.7.0)\n",
      "Requirement already satisfied: idna<3,>=2.5 in /usr/local/lib/python3.7/dist-packages (from requests>=2.18.4->comet_ml) (2.10)\n",
      "Requirement already satisfied: chardet<4,>=3.0.2 in /usr/local/lib/python3.7/dist-packages (from requests>=2.18.4->comet_ml) (3.0.4)\n"
     ]
    }
   ],
   "source": [
    "!pip install comet_ml"
   ]
  },
  {
   "cell_type": "markdown",
   "metadata": {
    "id": "poKWk6yV_-MR"
   },
   "source": [
    "## Imports"
   ]
  },
  {
   "cell_type": "markdown",
   "metadata": {
    "id": "xvxCMSK65g-H"
   },
   "source": [
    "TODO: Signup for a free account at https://www.comet.ml and paste your API key below\n"
   ]
  },
  {
   "cell_type": "code",
   "execution_count": null,
   "metadata": {
    "colab": {
     "base_uri": "https://localhost:8080/"
    },
    "id": "d9AkuK4V_9Ym",
    "outputId": "d87a176c-a1dc-4772-8cfd-6671971de37b"
   },
   "outputs": [
    {
     "name": "stderr",
     "output_type": "stream",
     "text": [
      "COMET WARNING: As you are running in a Jupyter environment, you will need to call `experiment.end()` when finished to ensure all metrics and code are logged before exiting.\n",
      "COMET INFO: Couldn't find a Git repository in '/content' nor in any parent directory. You can override where Comet is looking for a Git Patch by setting the configuration `COMET_GIT_DIRECTORY`\n",
      "COMET INFO: Experiment is live on comet.ml https://www.comet.ml/mihailoobrenovic/gans-exercise/3e75a8e6e2f44f6cbc41095370be1a91\n",
      "\n"
     ]
    }
   ],
   "source": [
    "# Import Comet package for tracking the experiments\n",
    "\n",
    "from comet_ml import Experiment\n",
    "### TODO: Signup for a free account at https://www.comet.ml and paste your API key below\n",
    "exp = Experiment(\n",
    "    api_key=\"...\",\n",
    "    project_name='applied-ai-gan-students')\n",
    "### END OF TODO\n"
   ]
  },
  {
   "cell_type": "code",
   "execution_count": null,
   "metadata": {
    "id": "xnjbpUZ0JAG-"
   },
   "outputs": [],
   "source": [
    "# Import models, layers, optmisers\n",
    "import tensorflow as tf\n",
    "from tensorflow.keras.layers import Dense, Input, Reshape, Conv2DTranspose, Conv2D, Flatten, LeakyReLU, ReLU,BatchNormalization\n",
    "from tensorflow.keras.models import Model, Sequential\n",
    "from tensorflow.keras.optimizers import Adam\n",
    "from tensorflow.keras.datasets import cifar10, mnist\n",
    "from tensorflow.keras.preprocessing.image import ImageDataGenerator\n",
    "from tensorflow.keras.utils import plot_model\n",
    "from tensorflow.keras import initializers\n",
    "#other packages\n",
    "from tqdm import tqdm\n",
    "import numpy as np\n",
    "import matplotlib.pyplot as plt\n",
    "import sys\n",
    "from skimage.transform import resize\n"
   ]
  },
  {
   "cell_type": "markdown",
   "metadata": {
    "id": "_URgg8xexel-"
   },
   "source": [
    "## Global variables"
   ]
  },
  {
   "cell_type": "code",
   "execution_count": null,
   "metadata": {
    "id": "p8dxlWYcxdif"
   },
   "outputs": [],
   "source": [
    "# Globals variables : \n",
    "noise_input_shape = 100\n",
    "batch_size = 128"
   ]
  },
  {
   "cell_type": "markdown",
   "metadata": {
    "id": "5WRDdcycGMD5"
   },
   "source": [
    "## Utils functions (plotting, logging)\n",
    "Take a look at TODOs ...\n"
   ]
  },
  {
   "cell_type": "code",
   "execution_count": null,
   "metadata": {
    "id": "Czc4tKc2GVBy"
   },
   "outputs": [],
   "source": [
    "# Function to plot generated images : \n",
    "'''\n",
    "Arguments : \n",
    "epoch - training epoch\n",
    "generator - generator model from epoch epoch\n",
    "exp - Comet.ml callback\n",
    "examples - number of images to be plotted\n",
    "dim - (rows, cols) of figure in which images will be plotted\n",
    "figsize - size of the figure\n",
    "prefix - prefix for the filename of the saved plot\n",
    "'''\n",
    "def plot_generated_images(epoch, generator, exp, examples=25, dim=(5, 5), figsize=(5, 5), prefix='dataset'):\n",
    "    # TODO: Random input vector (shape=(num_examples,noise_input_shape))\n",
    "    noise = tf.random.normal([examples, noise_input_shape])\n",
    "    # TODO: Generate images from created noise vector\n",
    "    generated_images = generator.predict(noise)\n",
    "    # Convert images into range [0-255] and convert to uint8 for proper plotting\n",
    "    generated_images = ((generated_images * 127.5) + 127.5).astype('uint8')\n",
    "    plt.figure(figsize=figsize)\n",
    "    for i in range(generated_images.shape[0]):\n",
    "        plt.subplot(dim[0], dim[1], i + 1)\n",
    "        plt.imshow(np.squeeze(generated_images[i]))\n",
    "        plt.axis('off')\n",
    "    plt.tight_layout()\n",
    "    plt.savefig(prefix+'_gan_generated_image %d.png' % epoch)\n",
    "    # Log plotted figure into Comet.ml\n",
    "    exp.log_figure(figure_name='generated_images_ep'+str(epoch))\n",
    "    plt.close()\n",
    "\n",
    "# Function to plot real images : \n",
    "'''\n",
    "Arguments : \n",
    "X_train - real dataset images (or batch of real dataset images)\n",
    "exp - Comet.ml callback\n",
    "examples - number of images to be plotted\n",
    "dim - (rows, cols) of figure in which images will be plotted\n",
    "figsize - size of the figure\n",
    "prefix - prefix for the filename of the saved plot\n",
    "\n",
    "'''\n",
    "def plot_real_images(X_train, exp, examples=25, dim=(5, 5), figsize=(5, 5), prefix='dataset'):\n",
    "    print(X_train.shape)\n",
    "    real_images = X_train[:examples]\n",
    "    print(real_images.shape)\n",
    "    real_images = ((real_images.numpy() * 127.5) + 127.5).astype('uint8')\n",
    "    print(real_images.shape)\n",
    "    plt.figure(figsize=figsize)\n",
    "    for i in range(real_images.shape[0]):\n",
    "        plt.subplot(dim[0], dim[1], i + 1)\n",
    "        plt.imshow(np.squeeze(real_images[i]))\n",
    "        plt.axis('off')\n",
    "    plt.tight_layout()\n",
    "    plt.savefig(prefix+'_gan_real_image %d.png')\n",
    "    # Log plotted figure into Comet.ml\n",
    "    exp.log_figure(figure_name='real_images.png')\n",
    "    plt.close()\n",
    "\n",
    "# Comet logging gradinets distributions (vanishing gradients)\n",
    "def get_gradients(gradmap, grads, model):\n",
    "    for grad, param in zip(grads, model.trainable_variables):\n",
    "        gradmap.setdefault(param.name, 0)\n",
    "        gradmap[param.name] += grad\n",
    "\n",
    "    return gradmap\n",
    "def log_histogram(experiment, gradmap, step, prefix=None):\n",
    "    for k, v in gradmap.items():\n",
    "        experiment.log_histogram_3d(v, name=\"%s/%s\" % (prefix, k), step=step)\n"
   ]
  },
  {
   "cell_type": "markdown",
   "metadata": {
    "id": "LmcCofYMuEVs"
   },
   "source": [
    "##  Dataset"
   ]
  },
  {
   "cell_type": "code",
   "execution_count": null,
   "metadata": {
    "id": "JfPOSsLGuSrq"
   },
   "outputs": [],
   "source": [
    "# Load dataset\n",
    "dataset='mnist' #'cifar'\n",
    "if dataset=='mnist':\n",
    "  (x_train, y_train), (_, _) = mnist.load_data() \n",
    "  out_channels = 1\n",
    "  x_train = x_train[...,np.newaxis]\n",
    "elif dataset=='cifar':\n",
    "  (x_train, y_train), (_, _) = cifar10.load_data()\n",
    "  out_channels = 3\n",
    "else:\n",
    "  sys.exit('Unknown dataset')\n",
    "  \n",
    "# Normalise data to the range (-1,1)\n",
    "x_train = (x_train.astype(np.float32) - 127.5) / 127.5\n",
    "\n",
    "y_train = y_train.astype(np.int32)\n",
    "\n",
    "# Training details\n",
    "batch_count = x_train.shape[0] // batch_size # how many iteration per epoch\n"
   ]
  },
  {
   "cell_type": "code",
   "execution_count": null,
   "metadata": {
    "id": "v-efEUF9vPnb"
   },
   "outputs": [],
   "source": [
    "# If dataset is MNIST, we will resize the images to 32x32 size because 32 is more convenient being a power of 2.\n",
    "# CIFAR images are already of size 32x32, resizing will change nothing\n",
    "resize_shape = (32, 32, out_channels)\n",
    "\n",
    "def parse_function(img):\n",
    "    image = tf.image.resize(img,(resize_shape[0],resize_shape[1]))\n",
    "    return image"
   ]
  },
  {
   "cell_type": "code",
   "execution_count": null,
   "metadata": {
    "id": "Ni5Q7Z7HuWEO"
   },
   "outputs": [],
   "source": [
    "# make trainig set\n",
    "train_dataset = tf.data.Dataset.from_tensor_slices(x_train)\n",
    "train_dataset = train_dataset.shuffle(x_train.shape[0]) \n",
    "train_dataset = train_dataset.map(parse_function, num_parallel_calls=4)\n",
    "train_dataset = train_dataset.batch(batch_size)"
   ]
  },
  {
   "cell_type": "markdown",
   "metadata": {
    "id": "ggd3EM5t_0JE"
   },
   "source": [
    "## **GAN model**\n"
   ]
  },
  {
   "cell_type": "markdown",
   "metadata": {
    "id": "idTZyfVHsmsR"
   },
   "source": [
    "### Generator : \n",
    "\n",
    "Generator transforms input noise to image. The input noise is reshaped to 3D tensor and upsampling is done via TransposeConvolution (take a look at https://keras.io/api/layers/convolution_layers/convolution2d_transpose/).\n",
    "\n",
    "Complete the generator to have the following architecture: \n",
    "\n",
    "<img src=\"https://seafile.unistra.fr/f/92b1617dc1724e39abd4/?dl=1\"/>\n",
    "\n",
    "\n",
    "*Input*: Noise (shape=(noise_input_shape,)).\n",
    "\n",
    "*Output*: Image (32,32,1) for MNIST or (32,32,3) for CIFAR.\n",
    "\n"
   ]
  },
  {
   "cell_type": "code",
   "execution_count": null,
   "metadata": {
    "id": "eN3iElnXtn9_"
   },
   "outputs": [],
   "source": [
    "# TODO: Function to create generator\n",
    "def create_generator(noise_input_shape=100,out_channels=3):\n",
    "  # Input noise is a vector of length 100 (for example)\n",
    "  input = Input(shape=(noise_input_shape,))\n",
    "  filters = 256\n",
    "  k_size = 4\n",
    "  g = Reshape((1,1,noise_input_shape))(input)\n",
    "  g = Conv2DTranspose(filters,(k_size,k_size),strides=1,kernel_initializer=initializers.RandomNormal(stddev=0.02),bias_initializer=initializers.RandomNormal(stddev=0.02))(g)\n",
    "  g = LeakyReLU(alpha=0.2)(g)\n",
    " \n",
    "  ### TODO: complete the model (see https://keras.io/layers/convolutional/), all leakyReLu layers to have alpha=0.2, 4x4 convolution, and (2,2) stride\n",
    "  # Upsampling blocks\n",
    "  for i in range(1,4):\n",
    "    f = filters//(2**i)\n",
    "    # Spatial upsampling\n",
    "    g = Conv2DTranspose(f, (k_size, k_size), strides=(2, 2), padding='same')(g)\n",
    "    g = LeakyReLU(alpha=0.2)(g)\n",
    "\n",
    "  # N.B. Number of channels (filters) in the last layer needs to be 1 for MNIST (output should be grayscale image),\n",
    "  # or 3 for CIFAR (output should be an RGB image), with 3x3 convolution\n",
    "  # Activation function in last layer should be tanh to match real images which are in the range [-1,1]\n",
    "  g = Conv2D(out_channels, (3, 3), activation='tanh', padding='same')(g)\n",
    "  ### END OF TODO\n",
    "  \n",
    "  # Make the model\n",
    "  model = Model(inputs=input, outputs=g)\n",
    "\n",
    "  # Model doesn't need to be compiled because it will be trained in custom training \n",
    "  # loop in combination with discriminator (new model will be created)\n",
    "  return model"
   ]
  },
  {
   "cell_type": "code",
   "execution_count": null,
   "metadata": {
    "colab": {
     "base_uri": "https://localhost:8080/",
     "height": 927
    },
    "id": "a77iU1Xiw8Tp",
    "outputId": "04bd7c46-814d-4c31-97de-fbb47fe8ab77"
   },
   "outputs": [
    {
     "name": "stdout",
     "output_type": "stream",
     "text": [
      "Model: \"model\"\n",
      "_________________________________________________________________\n",
      " Layer (type)                Output Shape              Param #   \n",
      "=================================================================\n",
      " input_1 (InputLayer)        [(None, 100)]             0         \n",
      "                                                                 \n",
      " reshape (Reshape)           (None, 1, 1, 100)         0         \n",
      "                                                                 \n",
      " conv2d_transpose (Conv2DTra  (None, 4, 4, 256)        409856    \n",
      " nspose)                                                         \n",
      "                                                                 \n",
      " leaky_re_lu (LeakyReLU)     (None, 4, 4, 256)         0         \n",
      "                                                                 \n",
      " conv2d_transpose_1 (Conv2DT  (None, 8, 8, 128)        524416    \n",
      " ranspose)                                                       \n",
      "                                                                 \n",
      " leaky_re_lu_1 (LeakyReLU)   (None, 8, 8, 128)         0         \n",
      "                                                                 \n",
      " conv2d_transpose_2 (Conv2DT  (None, 16, 16, 64)       131136    \n",
      " ranspose)                                                       \n",
      "                                                                 \n",
      " leaky_re_lu_2 (LeakyReLU)   (None, 16, 16, 64)        0         \n",
      "                                                                 \n",
      " conv2d_transpose_3 (Conv2DT  (None, 32, 32, 32)       32800     \n",
      " ranspose)                                                       \n",
      "                                                                 \n",
      " leaky_re_lu_3 (LeakyReLU)   (None, 32, 32, 32)        0         \n",
      "                                                                 \n",
      " conv2d (Conv2D)             (None, 32, 32, 1)         289       \n",
      "                                                                 \n",
      "=================================================================\n",
      "Total params: 1,098,497\n",
      "Trainable params: 1,098,497\n",
      "Non-trainable params: 0\n",
      "_________________________________________________________________\n"
     ]
    },
    {
     "data": {
      "text/plain": [
       "<matplotlib.image.AxesImage at 0x7f7b304d1450>"
      ]
     },
     "execution_count": 10,
     "metadata": {},
     "output_type": "execute_result"
    },
    {
     "data": {
      "image/png": "[encoded data removed]",
      "text/plain": [
       "<Figure size 432x288 with 1 Axes>"
      ]
     },
     "metadata": {
      "needs_background": "light"
     },
     "output_type": "display_data"
    }
   ],
   "source": [
    "# Test generator\n",
    "g = create_generator(out_channels=out_channels)\n",
    "g.summary()\n",
    "noise = tf.random.normal([1,noise_input_shape])\n",
    "gen_img = g(noise,training=False).numpy()\n",
    "plot_img = np.squeeze(gen_img)\n",
    "plt.imshow(((plot_img * 127.5) + 127.5).astype('uint8'))"
   ]
  },
  {
   "cell_type": "markdown",
   "metadata": {
    "id": "2IP5lZKus_6_"
   },
   "source": [
    "### Discriminator: \n",
    "\n",
    "Discriminator distinguishing between real and fake samples:\n",
    "It takes an image as an input and produce the probability of a given image being real.\n",
    "This can be acheived  by using sigmoid activation function at the last layer. For computational stability, use **linear activation** in last layer (no activation) and **sigmoid will be added during loss calculation**.\n",
    "\n",
    "\n",
    "Complete the discriminator to have the following architecture: \n",
    "\n",
    "<img src=\"https://seafile.unistra.fr/f/2739577c4dde45cca672/?dl=1\"/>\n",
    "\n",
    "\n",
    "*Input*: Image (32,32,1) for MNIST or (32,32,3) for CIFAR.\n",
    "\n",
    "*Output*: logit of binary classification (real or fake), shape=(1,))\n",
    "\n"
   ]
  },
  {
   "cell_type": "code",
   "execution_count": null,
   "metadata": {
    "id": "zxutqe3Ps_c2"
   },
   "outputs": [],
   "source": [
    "# TODO: Function to create discriminator\n",
    "def create_discriminator(input_shape):\n",
    "    # Discriminator input has the same shape as the generator output\n",
    "    input = Input(input_shape)\n",
    "    filters = 64\n",
    "    k_size= 3\n",
    "    d = Conv2D(filters, (k_size, k_size),padding='same')(input)\n",
    "    d = LeakyReLU(alpha=0.2)(d)\n",
    "\n",
    "    ### TODO: complete the model - all convolutional layers to have a stride of (2,2), all leakyReLu layers to have alpha=0.2\n",
    "    for i in range(1,4):\n",
    "      f = filters*(2 ** i)\n",
    "      d = Conv2D(f, (k_size, k_size), strides=(2, 2),padding='same')(d)\n",
    "      d = LeakyReLU(alpha=0.2)(d)\n",
    "\n",
    "    \n",
    "    d = Flatten()(d)\n",
    "    # Output is one number\n",
    "    # Ideal output should be close to 1 for images from real dataset, close to 0 for generated images\n",
    "    d = Dense(1)(d)\n",
    "    ### END OF TODO\n",
    "    \n",
    "    model = Model(inputs = input,outputs=d)\n",
    "    return model"
   ]
  },
  {
   "cell_type": "code",
   "execution_count": null,
   "metadata": {
    "colab": {
     "base_uri": "https://localhost:8080/"
    },
    "id": "EwLOVR7kzlTi",
    "outputId": "8396efb4-fd61-4c0f-bc8d-984572c0025a"
   },
   "outputs": [
    {
     "name": "stdout",
     "output_type": "stream",
     "text": [
      "Model: \"model_1\"\n",
      "_________________________________________________________________\n",
      " Layer (type)                Output Shape              Param #   \n",
      "=================================================================\n",
      " input_2 (InputLayer)        [(None, 32, 32, 1)]       0         \n",
      "                                                                 \n",
      " conv2d_1 (Conv2D)           (None, 32, 32, 64)        640       \n",
      "                                                                 \n",
      " leaky_re_lu_4 (LeakyReLU)   (None, 32, 32, 64)        0         \n",
      "                                                                 \n",
      " conv2d_2 (Conv2D)           (None, 16, 16, 128)       73856     \n",
      "                                                                 \n",
      " leaky_re_lu_5 (LeakyReLU)   (None, 16, 16, 128)       0         \n",
      "                                                                 \n",
      " conv2d_3 (Conv2D)           (None, 8, 8, 256)         295168    \n",
      "                                                                 \n",
      " leaky_re_lu_6 (LeakyReLU)   (None, 8, 8, 256)         0         \n",
      "                                                                 \n",
      " conv2d_4 (Conv2D)           (None, 4, 4, 512)         1180160   \n",
      "                                                                 \n",
      " leaky_re_lu_7 (LeakyReLU)   (None, 4, 4, 512)         0         \n",
      "                                                                 \n",
      " flatten (Flatten)           (None, 8192)              0         \n",
      "                                                                 \n",
      " dense (Dense)               (None, 1)                 8193      \n",
      "                                                                 \n",
      "=================================================================\n",
      "Total params: 1,558,017\n",
      "Trainable params: 1,558,017\n",
      "Non-trainable params: 0\n",
      "_________________________________________________________________\n",
      "tf.Tensor([[2.1817388e-05]], shape=(1, 1), dtype=float32)\n"
     ]
    }
   ],
   "source": [
    "# Test discriminator\n",
    "d = create_discriminator(resize_shape)\n",
    "d.summary()\n",
    "decision = d(gen_img)\n",
    "print(decision)"
   ]
  },
  {
   "cell_type": "code",
   "execution_count": null,
   "metadata": {
    "colab": {
     "base_uri": "https://localhost:8080/",
     "height": 303
    },
    "id": "NeODLUTsOXYH",
    "outputId": "246523ba-3c76-4bb7-bb85-fe3610db552d"
   },
   "outputs": [
    {
     "name": "stdout",
     "output_type": "stream",
     "text": [
      "tf.Tensor([[0.0004838]], shape=(1, 1), dtype=float32)\n"
     ]
    },
    {
     "data": {
      "text/plain": [
       "<matplotlib.image.AxesImage at 0x7f7aca6c2a10>"
      ]
     },
     "execution_count": 13,
     "metadata": {},
     "output_type": "execute_result"
    },
    {
     "data": {
      "image/png": "[encoded data removed]",
      "text/plain": [
       "<Figure size 432x288 with 1 Axes>"
      ]
     },
     "metadata": {
      "needs_background": "light"
     },
     "output_type": "display_data"
    }
   ],
   "source": [
    "# Run this multiple times to see differences\n",
    "noise = tf.random.normal([1,noise_input_shape])\n",
    "gen_img = g(noise,training=False).numpy()\n",
    "decision = d(gen_img)\n",
    "print(decision)\n",
    "plot_img = np.squeeze(gen_img)\n",
    "plt.imshow(((plot_img* 127.5) + 127.5).astype('uint8'))"
   ]
  },
  {
   "cell_type": "markdown",
   "metadata": {
    "id": "e34ZO8lktJzu"
   },
   "source": [
    "### Loss functions and optimisers\n"
   ]
  },
  {
   "cell_type": "code",
   "execution_count": null,
   "metadata": {
    "id": "N6zkZRVdGEOF"
   },
   "outputs": [],
   "source": [
    "#TODO: Create binary cross entropy loss function (use parameter from_logits = True if activation is linear in disciminator).\n",
    "loss_function = tf.keras.losses.BinaryCrossentropy(from_logits=True)\n",
    "\n",
    "#TODO: (hint: disciminator should predict one for real data)\n",
    "def discriminator_loss_real_data(disc_pred_for_real_data):\n",
    "    real_loss = loss_function(tf.ones_like(disc_pred_for_real_data), disc_pred_for_real_data)\n",
    "    return real_loss\n",
    "#TODO: (hint: disciminator should  predict zero for real data)\n",
    "def discriminator_loss_fake_data(disc_pred_for_generated_data):\n",
    "    fake_loss = loss_function(tf.zeros_like(disc_pred_for_generated_data), disc_pred_for_generated_data)\n",
    "    return fake_loss\n",
    "\n",
    "#TODO: (hint: generator wants that discriminator's predictions are close to one for generated data)\n",
    "def generator_loss(disc_pred_for_generated_data):\n",
    "    gen_loss =  loss_function(tf.ones_like(disc_pred_for_generated_data), disc_pred_for_generated_data)\n",
    "    return gen_loss"
   ]
  },
  {
   "cell_type": "code",
   "execution_count": null,
   "metadata": {
    "id": "RZKf3rH9GSud"
   },
   "outputs": [],
   "source": [
    "#Optimisers\n",
    "generator_optimizer = tf.keras.optimizers.Adam(2e-4,beta_1=0.5)\n",
    "discriminator_optimizer = tf.keras.optimizers.Adam(2e-4,beta_1=0.5)"
   ]
  },
  {
   "cell_type": "markdown",
   "metadata": {
    "id": "2AO41Sahyupp"
   },
   "source": [
    "# Prepare models"
   ]
  },
  {
   "cell_type": "code",
   "execution_count": null,
   "metadata": {
    "id": "r8sz1UD5aQ55"
   },
   "outputs": [],
   "source": [
    "#TODO: Make models\n",
    "generator = create_generator(noise_input_shape=noise_input_shape,out_channels=out_channels)\n",
    "shape = generator.output_shape[1:]\n",
    "discriminator = create_discriminator(shape)\n",
    "\n",
    "# Log and plot progress (Comet.ml)\n",
    "exp.get_callback('keras').set_model(generator)"
   ]
  },
  {
   "cell_type": "markdown",
   "metadata": {
    "id": "P4ajfgM5Gl5P"
   },
   "source": [
    "# GAN training"
   ]
  },
  {
   "cell_type": "markdown",
   "metadata": {
    "id": "Pj8cLgaXzJlD"
   },
   "source": [
    "## Training step function"
   ]
  },
  {
   "cell_type": "code",
   "execution_count": null,
   "metadata": {
    "id": "febylNJVGosR"
   },
   "outputs": [],
   "source": [
    "@tf.function\n",
    "def train_step(real_images):\n",
    "  ## Train discriminator\n",
    "  #0. Make a noise vector\n",
    "  noise = tf.random.normal([real_images.shape[0], noise_input_shape])\n",
    "  with tf.GradientTape() as disc_tape:\n",
    "    # 1. generator generates an image from noise\n",
    "    generated_images = generator(noise, training=True)\n",
    "    # 2. discriminator prediction for real images\n",
    "    real_output = discriminator(real_images, training=True)\n",
    "    # 3. discriminator prediction for fake images\n",
    "    fake_output = discriminator(generated_images, training=True)\n",
    "    # 4. discriminator loss\n",
    "    disc_loss = (discriminator_loss_real_data(real_output)+discriminator_loss_fake_data(fake_output))/2\n",
    "  \n",
    "  #get disciminator's gradients\n",
    "  gradients_of_discriminator = disc_tape.gradient(disc_loss, discriminator.trainable_variables)\n",
    "  # Update the weights of the discriminator using the discriminator optimizer\n",
    "  discriminator_optimizer.apply_gradients(zip(gradients_of_discriminator, discriminator.trainable_variables))\n",
    "\n",
    "  ## Train generator\n",
    "  #0. Make a noise vector\n",
    "  noise = tf.random.normal([real_images.shape[0], noise_input_shape])\n",
    "  with tf.GradientTape() as gen_tape:\n",
    "      # 1. Generate fake images using the generator\n",
    "      generated_images =  generator(noise, training=True)\n",
    "      # 2. Get the discriminator prediction for fake images\n",
    "      fake_output = discriminator(generated_images, training=True)\n",
    "      # 3. Calculate the generator loss\n",
    "      gen_loss = generator_loss(fake_output)\n",
    "\n",
    "  #TODO: Update generator\n",
    "  gradients_of_generator = gen_tape.gradient(gen_loss, generator.trainable_variables)  \n",
    "  generator_optimizer.apply_gradients(zip(gradients_of_generator, generator.trainable_variables))\n",
    "  \n",
    "\n",
    "  return gen_loss, disc_loss, gradients_of_generator, gradients_of_discriminator"
   ]
  },
  {
   "cell_type": "markdown",
   "metadata": {
    "id": "yH1h0ZBTzaGB"
   },
   "source": [
    "## Training loop"
   ]
  },
  {
   "cell_type": "code",
   "execution_count": null,
   "metadata": {
    "id": "S0WRXgCPJkCc"
   },
   "outputs": [],
   "source": [
    "\n",
    "def train(dataset, epochs):\n",
    "  real_plt = False\n",
    "  cnt = 0\n",
    "  gradmap_generator = {}\n",
    "  gradmap_discriminator = {}\n",
    "\n",
    "  for epoch in tqdm(range(epochs)):\n",
    "    step=0\n",
    "    for image_batch in dataset:\n",
    "      step = step+1\n",
    "      if not real_plt:\n",
    "         plot_real_images(image_batch, exp, prefix='real')\n",
    "         real_plt = True\n",
    "      \n",
    "      gen_loss, disc_loss, gradients_of_generator, gradients_of_discriminator= train_step(image_batch)\n",
    "      \n",
    "      # Logs for comet\n",
    "      gradmap_generator = get_gradients(gradmap_generator, gradients_of_generator, generator)\n",
    "      gradmap_discriminator = get_gradients(gradmap_discriminator, gradients_of_discriminator, discriminator)\n",
    "      \n",
    "      exp.set_step(cnt)\n",
    "      exp.log_metric(\"disc_loss\",disc_loss,step=cnt)\n",
    "      exp.log_metric(\"gen_loss\", gen_loss, step=cnt)\n",
    "      cnt = cnt+1\n",
    "     # scale gradients\n",
    "    for k, v in gradmap_generator.items():\n",
    "      gradmap_generator[k] = v / step\n",
    "    for k, v in gradmap_discriminator.items():\n",
    "      gradmap_discriminator[k] = v / step\n",
    "\n",
    "    plot_generated_images(epoch, generator, exp, prefix='cifar')\n",
    "    log_histogram(exp, gradmap_generator,cnt, prefix=\"gradient_generator\")\n",
    "    log_histogram(exp, gradmap_discriminator,cnt, prefix=\"gradient_discriminator\")\n"
   ]
  },
  {
   "cell_type": "markdown",
   "metadata": {
    "id": "Ac4hKGrU0365"
   },
   "source": [
    "##Run code"
   ]
  },
  {
   "cell_type": "code",
   "execution_count": null,
   "metadata": {
    "colab": {
     "base_uri": "https://localhost:8080/"
    },
    "id": "hD6_QSzEJS0P",
    "outputId": "3abfce0e-7554-4478-9795-5031639b8956"
   },
   "outputs": [
    {
     "name": "stderr",
     "output_type": "stream",
     "text": [
      "\r  0%|          | 0/10 [00:00<?, ?it/s]"
     ]
    },
    {
     "name": "stdout",
     "output_type": "stream",
     "text": [
      "(128, 32, 32, 1)\n",
      "(25, 32, 32, 1)\n",
      "(25, 32, 32, 1)\n"
     ]
    },
    {
     "name": "stderr",
     "output_type": "stream",
     "text": [
      "100%|██████████| 10/10 [08:22<00:00, 50.28s/it]\n"
     ]
    }
   ],
   "source": [
    "train(train_dataset, 10)"
   ]
  },
  {
   "cell_type": "code",
   "execution_count": null,
   "metadata": {
    "colab": {
     "base_uri": "https://localhost:8080/"
    },
    "id": "KnGOBybys6VU",
    "outputId": "a133c9c1-1ca5-4a28-98e9-c0d896593883"
   },
   "outputs": [
    {
     "name": "stderr",
     "output_type": "stream",
     "text": [
      "COMET INFO: ---------------------------\n",
      "COMET INFO: Comet.ml Experiment Summary\n",
      "COMET INFO: ---------------------------\n",
      "COMET INFO:   Data:\n",
      "COMET INFO:     display_summary_level : 1\n",
      "COMET INFO:     url                   : https://www.comet.ml/mihailoobrenovic/gans-exercise/3e75a8e6e2f44f6cbc41095370be1a91\n",
      "COMET INFO:   Metrics [count] (min, max):\n",
      "COMET INFO:     disc_loss [4690] : (0.021559037268161774, 2.4108169078826904)\n",
      "COMET INFO:     gen_loss [4690]  : (0.035276371985673904, 7.212374687194824)\n",
      "COMET INFO:   Others:\n",
      "COMET INFO:     notebook_url : https://colab.research.google.com/notebook#fileId=1e9V3MnkFjjuNv-e8mxBzIkVaLvigSnTS\n",
      "COMET INFO:   Parameters:\n",
      "COMET INFO:     Adam_amsgrad       : False\n",
      "COMET INFO:     Adam_beta_1        : 0.5\n",
      "COMET INFO:     Adam_beta_2        : 0.999\n",
      "COMET INFO:     Adam_decay         : 0.0\n",
      "COMET INFO:     Adam_epsilon       : 1e-07\n",
      "COMET INFO:     Adam_learning_rate : 0.0002\n",
      "COMET INFO:     Optimizer          : Adam\n",
      "COMET INFO:   Uploads:\n",
      "COMET INFO:     environment details : 1\n",
      "COMET INFO:     figures             : 11\n",
      "COMET INFO:     filename            : 1\n",
      "COMET INFO:     histogram3d         : 200\n",
      "COMET INFO:     installed packages  : 1\n",
      "COMET INFO:     notebook            : 2\n",
      "COMET INFO:     os packages         : 1\n",
      "COMET INFO:     source_code         : 1\n",
      "COMET INFO: ---------------------------\n",
      "COMET INFO: Uploading metrics, params, and assets to Comet before program termination (may take several seconds)\n",
      "COMET INFO: The Python SDK has 3600 seconds to finish before aborting...\n"
     ]
    }
   ],
   "source": [
    "exp.end()"
   ]
  },
  {
   "cell_type": "markdown",
   "metadata": {
    "id": "R6N3_ujS8i43"
   },
   "source": [
    "# GAN playground\n",
    "\n",
    "1. Try longer training\n",
    "1. Train GAN with CIFAR dataset\n",
    "1.  Change the learning rate of the Generator/Discriminator, try different optimisers\n",
    "2.  Change Input noise shape\n",
    "3.   Modify discriminator/generator architecture (adding BatchNormalisarion, deeper generator/discriminator) \n",
    "4.   Increase the number of discriminator training iterations relative to the generator per epoch, e.g. discriminator is trained 2 times and generator 1 time per epoch\n"
   ]
  }
 ],
 "metadata": {
  "accelerator": "GPU",
  "colab": {
   "collapsed_sections": [
    "R6N3_ujS8i43"
   ],
   "provenance": []
  },
  "kernelspec": {
   "display_name": "Python 3",
   "name": "python3"
  }
 },
 "nbformat": 4,
 "nbformat_minor": 0
}
