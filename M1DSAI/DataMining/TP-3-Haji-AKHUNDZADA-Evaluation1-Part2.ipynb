{
 "cells": [
  {
   "cell_type": "markdown",
   "metadata": {},
   "source": [
    "# TP3- Part2-Transforming features for better clusterings"
   ]
  },
  {
   "cell_type": "markdown",
   "metadata": {},
   "source": [
    "**Step 11:** Perform the necessary libraries"
   ]
  },
  {
   "cell_type": "code",
   "execution_count": 24,
   "metadata": {},
   "outputs": [],
   "source": [
    "from sklearn.pipeline import make_pipeline\n",
    "from sklearn.preprocessing import StandardScaler\n",
    "from sklearn.cluster import KMeans\n",
    "import pandas as pd"
   ]
  },
  {
   "cell_type": "markdown",
   "metadata": {},
   "source": [
    "**Step 12:** Load Fish Data from data_UFAZ/TP3/Fish.csv and print the 5 first rows"
   ]
  },
  {
   "cell_type": "code",
   "execution_count": 25,
   "metadata": {},
   "outputs": [],
   "source": [
    "df = pd.read_csv(\"Fish.csv\")"
   ]
  },
  {
   "cell_type": "code",
   "execution_count": 26,
   "metadata": {},
   "outputs": [
    {
     "name": "stdout",
     "output_type": "stream",
     "text": [
      "the different clusters are\n",
      "  species  weight  length1  length2  length3  height  width\n",
      "0   Bream   242.0     23.2     25.4     30.0    38.4   13.4\n",
      "1   Bream   290.0     24.0     26.3     31.2    40.0   13.8\n",
      "2   Bream   340.0     23.9     26.5     31.1    39.8   15.1\n",
      "3   Bream   363.0     26.3     29.0     33.5    38.0   13.3\n",
      "4   Bream   430.0     26.5     29.0     34.0    36.6   15.1\n"
     ]
    }
   ],
   "source": [
    "print(\"the different clusters are\")\n",
    "print(df.head())"
   ]
  },
  {
   "cell_type": "markdown",
   "metadata": {},
   "source": [
    "**Step 13:** Create scaler: scaler"
   ]
  },
  {
   "cell_type": "code",
   "execution_count": 27,
   "metadata": {},
   "outputs": [],
   "source": [
    "scaler = StandardScaler()"
   ]
  },
  {
   "cell_type": "markdown",
   "metadata": {},
   "source": [
    "**Step 14:** Create KMeans instance"
   ]
  },
  {
   "cell_type": "code",
   "execution_count": 28,
   "metadata": {},
   "outputs": [],
   "source": [
    "model = KMeans(n_clusters=3)"
   ]
  },
  {
   "cell_type": "markdown",
   "metadata": {},
   "source": [
    "**Step 15:** Create pipeline"
   ]
  },
  {
   "cell_type": "code",
   "execution_count": 29,
   "metadata": {},
   "outputs": [],
   "source": [
    "pipeline = make_pipeline(scaler, model)"
   ]
  },
  {
   "cell_type": "code",
   "execution_count": 30,
   "metadata": {},
   "outputs": [
    {
     "name": "stdout",
     "output_type": "stream",
     "text": [
      "Pipeline(steps=[('standardscaler', StandardScaler()),\n",
      "                ('kmeans', KMeans(n_clusters=3))])\n"
     ]
    }
   ],
   "source": [
    "#print the pipeline \n",
    "print(pipeline)"
   ]
  },
  {
   "cell_type": "markdown",
   "metadata": {},
   "source": [
    "<b> Clustering the fish data </b>"
   ]
  },
  {
   "cell_type": "markdown",
   "metadata": {},
   "source": [
    "**Step 16:** Import Pandas ad pd"
   ]
  },
  {
   "cell_type": "code",
   "execution_count": 31,
   "metadata": {},
   "outputs": [],
   "source": [
    "import pandas as pd"
   ]
  },
  {
   "cell_type": "markdown",
   "metadata": {},
   "source": [
    "**Step 17:** Fit the pipeline to samples\n",
    "\n",
    "Samples will be the 2-dimension array of fish measurements. Species of every fish sample will be given by the list species."
   ]
  },
  {
   "cell_type": "code",
   "execution_count": 32,
   "metadata": {},
   "outputs": [],
   "source": [
    "samples = df.drop(\"species\",axis=1).values\n",
    "species = df['species'].tolist()"
   ]
  },
  {
   "cell_type": "code",
   "execution_count": 33,
   "metadata": {},
   "outputs": [
    {
     "name": "stdout",
     "output_type": "stream",
     "text": [
      "[[ 242.    23.2   25.4   30.    38.4   13.4]\n",
      " [ 290.    24.    26.3   31.2   40.    13.8]\n",
      " [ 340.    23.9   26.5   31.1   39.8   15.1]\n",
      " [ 363.    26.3   29.    33.5   38.    13.3]\n",
      " [ 430.    26.5   29.    34.    36.6   15.1]\n",
      " [ 450.    26.8   29.7   34.7   39.2   14.2]\n",
      " [ 500.    26.8   29.7   34.5   41.1   15.3]\n",
      " [ 390.    27.6   30.    35.    36.2   13.4]\n",
      " [ 450.    27.6   30.    35.1   39.9   13.8]\n",
      " [ 500.    28.5   30.7   36.2   39.3   13.7]\n",
      " [ 475.    28.4   31.    36.2   39.4   14.1]\n",
      " [ 500.    28.7   31.    36.2   39.7   13.3]\n",
      " [ 500.    29.1   31.5   36.4   37.8   12. ]\n",
      " [ 600.    29.4   32.    37.2   40.2   13.9]\n",
      " [ 600.    29.4   32.    37.2   41.5   15. ]\n",
      " [ 700.    30.4   33.    38.3   38.8   13.8]\n",
      " [ 700.    30.4   33.    38.5   38.8   13.5]\n",
      " [ 610.    30.9   33.5   38.6   40.5   13.3]\n",
      " [ 650.    31.    33.5   38.7   37.4   14.8]\n",
      " [ 575.    31.3   34.    39.5   38.3   14.1]\n",
      " [ 685.    31.4   34.    39.2   40.8   13.7]\n",
      " [ 620.    31.5   34.5   39.7   39.1   13.3]\n",
      " [ 680.    31.8   35.    40.6   38.1   15.1]\n",
      " [ 700.    31.9   35.    40.5   40.1   13.8]\n",
      " [ 725.    31.8   35.    40.9   40.    14.8]\n",
      " [ 720.    32.    35.    40.6   40.3   15. ]\n",
      " [ 714.    32.7   36.    41.5   39.8   14.1]\n",
      " [ 850.    32.8   36.    41.6   40.6   14.9]\n",
      " [1000.    33.5   37.    42.6   44.5   15.5]\n",
      " [ 920.    35.    38.5   44.1   40.9   14.3]\n",
      " [ 955.    35.    38.5   44.    41.1   14.3]\n",
      " [ 925.    36.2   39.5   45.3   41.4   14.9]\n",
      " [ 975.    37.4   41.    45.9   40.6   14.7]\n",
      " [ 950.    38.    41.    46.5   37.9   13.7]\n",
      " [  40.    12.9   14.1   16.2   25.6   14. ]\n",
      " [  69.    16.5   18.2   20.3   26.1   13.9]\n",
      " [  78.    17.5   18.8   21.2   26.3   13.7]\n",
      " [  87.    18.2   19.8   22.2   25.3   14.3]\n",
      " [ 120.    18.6   20.    22.2   28.    16.1]\n",
      " [   0.    19.    20.5   22.8   28.4   14.7]\n",
      " [ 110.    19.1   20.8   23.1   26.7   14.7]\n",
      " [ 120.    19.4   21.    23.7   25.8   13.9]\n",
      " [ 150.    20.4   22.    24.7   23.5   15.2]\n",
      " [ 145.    20.5   22.    24.3   27.3   14.6]\n",
      " [ 160.    20.5   22.5   25.3   27.8   15.1]\n",
      " [ 140.    21.    22.5   25.    26.2   13.3]\n",
      " [ 160.    21.1   22.5   25.    25.6   15.2]\n",
      " [ 169.    22.    24.    27.2   27.7   14.1]\n",
      " [ 161.    22.    23.4   26.7   25.9   13.6]\n",
      " [ 200.    22.1   23.5   26.8   27.6   15.4]\n",
      " [ 180.    23.6   25.2   27.9   25.4   14. ]\n",
      " [ 290.    24.    26.    29.2   30.4   15.4]\n",
      " [ 272.    25.    27.    30.6   28.    15.6]\n",
      " [ 390.    29.5   31.7   35.    27.1   15.3]\n",
      " [   6.7    9.3    9.8   10.8   16.1    9.7]\n",
      " [   7.5   10.    10.5   11.6   17.    10. ]\n",
      " [   7.    10.1   10.6   11.6   14.9    9.9]\n",
      " [   9.7   10.4   11.    12.    18.3   11.5]\n",
      " [   9.8   10.7   11.2   12.4   16.8   10.3]\n",
      " [   8.7   10.8   11.3   12.6   15.7   10.2]\n",
      " [  10.    11.3   11.8   13.1   16.9    9.8]\n",
      " [   9.9   11.3   11.8   13.1   16.9    8.9]\n",
      " [   9.8   11.4   12.    13.2   16.7    8.7]\n",
      " [  12.2   11.5   12.2   13.4   15.6   10.4]\n",
      " [  13.4   11.7   12.4   13.5   18.     9.4]\n",
      " [  12.2   12.1   13.    13.8   16.5    9.1]\n",
      " [  19.7   13.2   14.3   15.2   18.9   13.6]\n",
      " [  19.9   13.8   15.    16.2   18.1   11.6]\n",
      " [ 200.    30.    32.3   34.8   16.     9.7]\n",
      " [ 300.    31.7   34.    37.8   15.1   11. ]\n",
      " [ 300.    32.7   35.    38.8   15.3   11.3]\n",
      " [ 300.    34.8   37.3   39.8   15.8   10.1]\n",
      " [ 430.    35.5   38.    40.5   18.    11.3]\n",
      " [ 345.    36.    38.5   41.    15.6    9.7]\n",
      " [ 456.    40.    42.5   45.5   16.     9.5]\n",
      " [ 510.    40.    42.5   45.5   15.     9.8]\n",
      " [ 540.    40.1   43.    45.8   17.    11.2]\n",
      " [ 500.    42.    45.    48.    14.5   10.2]\n",
      " [ 567.    43.2   46.    48.7   16.    10. ]\n",
      " [ 770.    44.8   48.    51.2   15.    10.5]\n",
      " [ 950.    48.3   51.7   55.1   16.2   11.2]\n",
      " [1250.    52.    56.    59.7   17.9   11.7]\n",
      " [1600.    56.    60.    64.    15.     9.6]\n",
      " [1550.    56.    60.    64.    15.     9.6]\n",
      " [1650.    59.    63.4   68.    15.9   11. ]]\n"
     ]
    }
   ],
   "source": [
    "#show samples \n",
    "print(samples)"
   ]
  },
  {
   "cell_type": "code",
   "execution_count": 34,
   "metadata": {},
   "outputs": [
    {
     "name": "stdout",
     "output_type": "stream",
     "text": [
      "['Bream', 'Bream', 'Bream', 'Bream', 'Bream', 'Bream', 'Bream', 'Bream', 'Bream', 'Bream', 'Bream', 'Bream', 'Bream', 'Bream', 'Bream', 'Bream', 'Bream', 'Bream', 'Bream', 'Bream', 'Bream', 'Bream', 'Bream', 'Bream', 'Bream', 'Bream', 'Bream', 'Bream', 'Bream', 'Bream', 'Bream', 'Bream', 'Bream', 'Bream', 'Roach', 'Roach', 'Roach', 'Roach', 'Roach', 'Roach', 'Roach', 'Roach', 'Roach', 'Roach', 'Roach', 'Roach', 'Roach', 'Roach', 'Roach', 'Roach', 'Roach', 'Roach', 'Roach', 'Roach', 'Smelt', 'Smelt', 'Smelt', 'Smelt', 'Smelt', 'Smelt', 'Smelt', 'Smelt', 'Smelt', 'Smelt', 'Smelt', 'Smelt', 'Smelt', 'Smelt', 'Pike', 'Pike', 'Pike', 'Pike', 'Pike', 'Pike', 'Pike', 'Pike', 'Pike', 'Pike', 'Pike', 'Pike', 'Pike', 'Pike', 'Pike', 'Pike', 'Pike']\n"
     ]
    }
   ],
   "source": [
    "#show species\n",
    "print(species)"
   ]
  },
  {
   "cell_type": "code",
   "execution_count": 35,
   "metadata": {},
   "outputs": [],
   "source": [
    "# Fit the pipeline "
   ]
  },
  {
   "cell_type": "code",
   "execution_count": 36,
   "metadata": {},
   "outputs": [
    {
     "name": "stderr",
     "output_type": "stream",
     "text": [
      "D:\\Anaconda\\Lib\\site-packages\\sklearn\\cluster\\_kmeans.py:870: FutureWarning: The default value of `n_init` will change from 10 to 'auto' in 1.4. Set the value of `n_init` explicitly to suppress the warning\n",
      "  warnings.warn(\n",
      "D:\\Anaconda\\Lib\\site-packages\\sklearn\\cluster\\_kmeans.py:1382: UserWarning: KMeans is known to have a memory leak on Windows with MKL, when there are less chunks than available threads. You can avoid it by setting the environment variable OMP_NUM_THREADS=1.\n",
      "  warnings.warn(\n"
     ]
    },
    {
     "data": {
      "text/html": [
       "<style>#sk-container-id-2 {color: black;background-color: white;}#sk-container-id-2 pre{padding: 0;}#sk-container-id-2 div.sk-toggleable {background-color: white;}#sk-container-id-2 label.sk-toggleable__label {cursor: pointer;display: block;width: 100%;margin-bottom: 0;padding: 0.3em;box-sizing: border-box;text-align: center;}#sk-container-id-2 label.sk-toggleable__label-arrow:before {content: \"▸\";float: left;margin-right: 0.25em;color: #696969;}#sk-container-id-2 label.sk-toggleable__label-arrow:hover:before {color: black;}#sk-container-id-2 div.sk-estimator:hover label.sk-toggleable__label-arrow:before {color: black;}#sk-container-id-2 div.sk-toggleable__content {max-height: 0;max-width: 0;overflow: hidden;text-align: left;background-color: #f0f8ff;}#sk-container-id-2 div.sk-toggleable__content pre {margin: 0.2em;color: black;border-radius: 0.25em;background-color: #f0f8ff;}#sk-container-id-2 input.sk-toggleable__control:checked~div.sk-toggleable__content {max-height: 200px;max-width: 100%;overflow: auto;}#sk-container-id-2 input.sk-toggleable__control:checked~label.sk-toggleable__label-arrow:before {content: \"▾\";}#sk-container-id-2 div.sk-estimator input.sk-toggleable__control:checked~label.sk-toggleable__label {background-color: #d4ebff;}#sk-container-id-2 div.sk-label input.sk-toggleable__control:checked~label.sk-toggleable__label {background-color: #d4ebff;}#sk-container-id-2 input.sk-hidden--visually {border: 0;clip: rect(1px 1px 1px 1px);clip: rect(1px, 1px, 1px, 1px);height: 1px;margin: -1px;overflow: hidden;padding: 0;position: absolute;width: 1px;}#sk-container-id-2 div.sk-estimator {font-family: monospace;background-color: #f0f8ff;border: 1px dotted black;border-radius: 0.25em;box-sizing: border-box;margin-bottom: 0.5em;}#sk-container-id-2 div.sk-estimator:hover {background-color: #d4ebff;}#sk-container-id-2 div.sk-parallel-item::after {content: \"\";width: 100%;border-bottom: 1px solid gray;flex-grow: 1;}#sk-container-id-2 div.sk-label:hover label.sk-toggleable__label {background-color: #d4ebff;}#sk-container-id-2 div.sk-serial::before {content: \"\";position: absolute;border-left: 1px solid gray;box-sizing: border-box;top: 0;bottom: 0;left: 50%;z-index: 0;}#sk-container-id-2 div.sk-serial {display: flex;flex-direction: column;align-items: center;background-color: white;padding-right: 0.2em;padding-left: 0.2em;position: relative;}#sk-container-id-2 div.sk-item {position: relative;z-index: 1;}#sk-container-id-2 div.sk-parallel {display: flex;align-items: stretch;justify-content: center;background-color: white;position: relative;}#sk-container-id-2 div.sk-item::before, #sk-container-id-2 div.sk-parallel-item::before {content: \"\";position: absolute;border-left: 1px solid gray;box-sizing: border-box;top: 0;bottom: 0;left: 50%;z-index: -1;}#sk-container-id-2 div.sk-parallel-item {display: flex;flex-direction: column;z-index: 1;position: relative;background-color: white;}#sk-container-id-2 div.sk-parallel-item:first-child::after {align-self: flex-end;width: 50%;}#sk-container-id-2 div.sk-parallel-item:last-child::after {align-self: flex-start;width: 50%;}#sk-container-id-2 div.sk-parallel-item:only-child::after {width: 0;}#sk-container-id-2 div.sk-dashed-wrapped {border: 1px dashed gray;margin: 0 0.4em 0.5em 0.4em;box-sizing: border-box;padding-bottom: 0.4em;background-color: white;}#sk-container-id-2 div.sk-label label {font-family: monospace;font-weight: bold;display: inline-block;line-height: 1.2em;}#sk-container-id-2 div.sk-label-container {text-align: center;}#sk-container-id-2 div.sk-container {/* jupyter's `normalize.less` sets `[hidden] { display: none; }` but bootstrap.min.css set `[hidden] { display: none !important; }` so we also need the `!important` here to be able to override the default hidden behavior on the sphinx rendered scikit-learn.org. See: https://github.com/scikit-learn/scikit-learn/issues/21755 */display: inline-block !important;position: relative;}#sk-container-id-2 div.sk-text-repr-fallback {display: none;}</style><div id=\"sk-container-id-2\" class=\"sk-top-container\"><div class=\"sk-text-repr-fallback\"><pre>Pipeline(steps=[(&#x27;standardscaler&#x27;, StandardScaler()),\n",
       "                (&#x27;kmeans&#x27;, KMeans(n_clusters=3))])</pre><b>In a Jupyter environment, please rerun this cell to show the HTML representation or trust the notebook. <br />On GitHub, the HTML representation is unable to render, please try loading this page with nbviewer.org.</b></div><div class=\"sk-container\" hidden><div class=\"sk-item sk-dashed-wrapped\"><div class=\"sk-label-container\"><div class=\"sk-label sk-toggleable\"><input class=\"sk-toggleable__control sk-hidden--visually\" id=\"sk-estimator-id-4\" type=\"checkbox\" ><label for=\"sk-estimator-id-4\" class=\"sk-toggleable__label sk-toggleable__label-arrow\">Pipeline</label><div class=\"sk-toggleable__content\"><pre>Pipeline(steps=[(&#x27;standardscaler&#x27;, StandardScaler()),\n",
       "                (&#x27;kmeans&#x27;, KMeans(n_clusters=3))])</pre></div></div></div><div class=\"sk-serial\"><div class=\"sk-item\"><div class=\"sk-estimator sk-toggleable\"><input class=\"sk-toggleable__control sk-hidden--visually\" id=\"sk-estimator-id-5\" type=\"checkbox\" ><label for=\"sk-estimator-id-5\" class=\"sk-toggleable__label sk-toggleable__label-arrow\">StandardScaler</label><div class=\"sk-toggleable__content\"><pre>StandardScaler()</pre></div></div></div><div class=\"sk-item\"><div class=\"sk-estimator sk-toggleable\"><input class=\"sk-toggleable__control sk-hidden--visually\" id=\"sk-estimator-id-6\" type=\"checkbox\" ><label for=\"sk-estimator-id-6\" class=\"sk-toggleable__label sk-toggleable__label-arrow\">KMeans</label><div class=\"sk-toggleable__content\"><pre>KMeans(n_clusters=3)</pre></div></div></div></div></div></div></div>"
      ],
      "text/plain": [
       "Pipeline(steps=[('standardscaler', StandardScaler()),\n",
       "                ('kmeans', KMeans(n_clusters=3))])"
      ]
     },
     "execution_count": 36,
     "metadata": {},
     "output_type": "execute_result"
    }
   ],
   "source": [
    "pipeline.fit(samples)"
   ]
  },
  {
   "cell_type": "markdown",
   "metadata": {},
   "source": [
    "**Step 18:** Calculate the cluster labels: labels"
   ]
  },
  {
   "cell_type": "code",
   "execution_count": 37,
   "metadata": {},
   "outputs": [],
   "source": [
    "labels = pipeline.predict(samples)"
   ]
  },
  {
   "cell_type": "markdown",
   "metadata": {},
   "source": [
    "**Step 19:** Create a DataFrame with labels and species as columns: df"
   ]
  },
  {
   "cell_type": "code",
   "execution_count": 38,
   "metadata": {},
   "outputs": [],
   "source": [
    "df = pd.DataFrame({'labels':labels,'species':species})"
   ]
  },
  {
   "cell_type": "markdown",
   "metadata": {},
   "source": [
    "**Step 20:** Create crosstab: ct"
   ]
  },
  {
   "cell_type": "code",
   "execution_count": 39,
   "metadata": {},
   "outputs": [
    {
     "data": {
      "text/html": [
       "<div>\n",
       "<style scoped>\n",
       "    .dataframe tbody tr th:only-of-type {\n",
       "        vertical-align: middle;\n",
       "    }\n",
       "\n",
       "    .dataframe tbody tr th {\n",
       "        vertical-align: top;\n",
       "    }\n",
       "\n",
       "    .dataframe thead th {\n",
       "        text-align: right;\n",
       "    }\n",
       "</style>\n",
       "<table border=\"1\" class=\"dataframe\">\n",
       "  <thead>\n",
       "    <tr style=\"text-align: right;\">\n",
       "      <th>species</th>\n",
       "      <th>Bream</th>\n",
       "      <th>Pike</th>\n",
       "      <th>Roach</th>\n",
       "      <th>Smelt</th>\n",
       "    </tr>\n",
       "    <tr>\n",
       "      <th>labels</th>\n",
       "      <th></th>\n",
       "      <th></th>\n",
       "      <th></th>\n",
       "      <th></th>\n",
       "    </tr>\n",
       "  </thead>\n",
       "  <tbody>\n",
       "    <tr>\n",
       "      <th>0</th>\n",
       "      <td>0</td>\n",
       "      <td>0</td>\n",
       "      <td>17</td>\n",
       "      <td>14</td>\n",
       "    </tr>\n",
       "    <tr>\n",
       "      <th>1</th>\n",
       "      <td>0</td>\n",
       "      <td>17</td>\n",
       "      <td>0</td>\n",
       "      <td>0</td>\n",
       "    </tr>\n",
       "    <tr>\n",
       "      <th>2</th>\n",
       "      <td>34</td>\n",
       "      <td>0</td>\n",
       "      <td>3</td>\n",
       "      <td>0</td>\n",
       "    </tr>\n",
       "  </tbody>\n",
       "</table>\n",
       "</div>"
      ],
      "text/plain": [
       "species  Bream  Pike  Roach  Smelt\n",
       "labels                            \n",
       "0            0     0     17     14\n",
       "1            0    17      0      0\n",
       "2           34     0      3      0"
      ]
     },
     "execution_count": 39,
     "metadata": {},
     "output_type": "execute_result"
    }
   ],
   "source": [
    "ct = pd.crosstab(df['labels'],df['species'])\n",
    "ct"
   ]
  },
  {
   "cell_type": "code",
   "execution_count": null,
   "metadata": {},
   "outputs": [],
   "source": []
  }
 ],
 "metadata": {
  "kernelspec": {
   "display_name": "Python 3 (ipykernel)",
   "language": "python",
   "name": "python3"
  },
  "language_info": {
   "codemirror_mode": {
    "name": "ipython",
    "version": 3
   },
   "file_extension": ".py",
   "mimetype": "text/x-python",
   "name": "python",
   "nbconvert_exporter": "python",
   "pygments_lexer": "ipython3",
   "version": "3.11.7"
  }
 },
 "nbformat": 4,
 "nbformat_minor": 4
}
