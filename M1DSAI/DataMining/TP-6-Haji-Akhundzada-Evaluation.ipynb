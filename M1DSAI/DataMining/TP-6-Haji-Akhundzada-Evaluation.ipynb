{
 "cells": [
  {
   "cell_type": "markdown",
   "metadata": {},
   "source": [
    "# Data Mining: Clustering using kmeans"
   ]
  },
  {
   "cell_type": "markdown",
   "metadata": {},
   "source": [
    "**Step 1:** import needed packages"
   ]
  },
  {
   "cell_type": "code",
   "execution_count": 1,
   "metadata": {},
   "outputs": [],
   "source": [
    "import numpy as np\n",
    "from sklearn.cluster import KMeans"
   ]
  },
  {
   "cell_type": "markdown",
   "metadata": {},
   "source": [
    "**Step 2:** Load the dataset (data_UFAZ/Wholesale customers data.csv). Output the first five rows to inspect the data content."
   ]
  },
  {
   "cell_type": "code",
   "execution_count": 2,
   "metadata": {},
   "outputs": [
    {
     "name": "stdout",
     "output_type": "stream",
     "text": [
      "   Channel  Region  Fresh  Milk  Grocery  Frozen  Detergents_Paper  Delicassen\n",
      "0        2       3  12669  9656     7561     214              2674        1338\n",
      "1        2       3   7057  9810     9568    1762              3293        1776\n",
      "2        2       3   6353  8808     7684    2405              3516        7844\n",
      "3        1       3  13265  1196     4221    6404               507        1788\n",
      "4        2       3  22615  5410     7198    3915              1777        5185\n"
     ]
    }
   ],
   "source": [
    "import pandas as pd\n",
    "\n",
    "data_csv = pd.read_csv(\"Wholesale customers data.csv\")\n",
    "\n",
    "# Output the first five rows\n",
    "print(data_csv.head())\n"
   ]
  },
  {
   "cell_type": "markdown",
   "metadata": {},
   "source": [
    "**Step 3:** print the statistics of the data"
   ]
  },
  {
   "cell_type": "code",
   "execution_count": 3,
   "metadata": {},
   "outputs": [
    {
     "name": "stdout",
     "output_type": "stream",
     "text": [
      "          Channel      Region          Fresh          Milk       Grocery  \\\n",
      "count  440.000000  440.000000     440.000000    440.000000    440.000000   \n",
      "mean     1.322727    2.543182   12000.297727   5796.265909   7951.277273   \n",
      "std      0.468052    0.774272   12647.328865   7380.377175   9503.162829   \n",
      "min      1.000000    1.000000       3.000000     55.000000      3.000000   \n",
      "25%      1.000000    2.000000    3127.750000   1533.000000   2153.000000   \n",
      "50%      1.000000    3.000000    8504.000000   3627.000000   4755.500000   \n",
      "75%      2.000000    3.000000   16933.750000   7190.250000  10655.750000   \n",
      "max      2.000000    3.000000  112151.000000  73498.000000  92780.000000   \n",
      "\n",
      "             Frozen  Detergents_Paper    Delicassen  \n",
      "count    440.000000        440.000000    440.000000  \n",
      "mean    3071.931818       2881.493182   1524.870455  \n",
      "std     4854.673333       4767.854448   2820.105937  \n",
      "min       25.000000          3.000000      3.000000  \n",
      "25%      742.250000        256.750000    408.250000  \n",
      "50%     1526.000000        816.500000    965.500000  \n",
      "75%     3554.250000       3922.000000   1820.250000  \n",
      "max    60869.000000      40827.000000  47943.000000  \n"
     ]
    }
   ],
   "source": [
    "# Print statistics of the data\n",
    "print(data_csv.describe())"
   ]
  },
  {
   "cell_type": "markdown",
   "metadata": {},
   "source": [
    "**Step 4:** standardizing the data"
   ]
  },
  {
   "cell_type": "code",
   "execution_count": 4,
   "metadata": {},
   "outputs": [
    {
     "name": "stdout",
     "output_type": "stream",
     "text": [
      "    Channel    Region     Fresh      Milk   Grocery    Frozen  \\\n",
      "0  1.448652  0.590668  0.052933  0.523568 -0.041115 -0.589367   \n",
      "1  1.448652  0.590668 -0.391302  0.544458  0.170318 -0.270136   \n",
      "2  1.448652  0.590668 -0.447029  0.408538 -0.028157 -0.137536   \n",
      "3 -0.690297  0.590668  0.100111 -0.624020 -0.392977  0.687144   \n",
      "4  1.448652  0.590668  0.840239 -0.052396 -0.079356  0.173859   \n",
      "\n",
      "   Detergents_Paper  Delicassen  \n",
      "0         -0.043569   -0.066339  \n",
      "1          0.086407    0.089151  \n",
      "2          0.133232    2.243293  \n",
      "3         -0.498588    0.093411  \n",
      "4         -0.231918    1.299347  \n"
     ]
    }
   ],
   "source": [
    "from sklearn.preprocessing import StandardScaler\n",
    "\n",
    "# Initialize StandardScaler object\n",
    "scaler = StandardScaler()\n",
    "\n",
    "# Fit and transform the data\n",
    "data_scaled = scaler.fit_transform(data_csv)\n",
    "\n",
    "# Convert the scaled data back to a DataFrame (optional)\n",
    "data_scaled = pd.DataFrame(data_scaled, columns=data_csv.columns)\n",
    "\n",
    "# Output the first five rows of the scaled data\n",
    "print(data_scaled.head())"
   ]
  },
  {
   "cell_type": "markdown",
   "metadata": {},
   "source": [
    "**Step 5:** Print the statistics of scaled data"
   ]
  },
  {
   "cell_type": "code",
   "execution_count": 5,
   "metadata": {},
   "outputs": [
    {
     "name": "stdout",
     "output_type": "stream",
     "text": [
      "            Channel        Region         Fresh        Milk       Grocery  \\\n",
      "count  4.400000e+02  4.400000e+02  4.400000e+02  440.000000  4.400000e+02   \n",
      "mean   1.614870e-17  3.552714e-16 -3.431598e-17    0.000000 -4.037175e-17   \n",
      "std    1.001138e+00  1.001138e+00  1.001138e+00    1.001138  1.001138e+00   \n",
      "min   -6.902971e-01 -1.995342e+00 -9.496831e-01   -0.778795 -8.373344e-01   \n",
      "25%   -6.902971e-01 -7.023369e-01 -7.023339e-01   -0.578306 -6.108364e-01   \n",
      "50%   -6.902971e-01  5.906683e-01 -2.767602e-01   -0.294258 -3.366684e-01   \n",
      "75%    1.448652e+00  5.906683e-01  3.905226e-01    0.189092  2.849105e-01   \n",
      "max    1.448652e+00  5.906683e-01  7.927738e+00    9.183650  8.936528e+00   \n",
      "\n",
      "             Frozen  Detergents_Paper    Delicassen  \n",
      "count  4.400000e+02      4.400000e+02  4.400000e+02  \n",
      "mean   3.633457e-17      2.422305e-17 -8.074349e-18  \n",
      "std    1.001138e+00      1.001138e+00  1.001138e+00  \n",
      "min   -6.283430e-01     -6.044165e-01 -5.402644e-01  \n",
      "25%   -4.804306e-01     -5.511349e-01 -3.964005e-01  \n",
      "50%   -3.188045e-01     -4.336004e-01 -1.985766e-01  \n",
      "75%    9.946441e-02      2.184822e-01  1.048598e-01  \n",
      "max    1.191900e+01      7.967672e+00  1.647845e+01  \n"
     ]
    }
   ],
   "source": [
    "# Print statistics of the scaled data\n",
    "print(data_scaled.describe())"
   ]
  },
  {
   "cell_type": "markdown",
   "metadata": {},
   "source": [
    "**Step 6**: Define the kmeans function with 2 clusters and fit the k-means algorithm on scaled data"
   ]
  },
  {
   "cell_type": "code",
   "execution_count": 6,
   "metadata": {},
   "outputs": [
    {
     "name": "stderr",
     "output_type": "stream",
     "text": [
      "C:\\Users\\haJy\\AppData\\Local\\Programs\\Python\\Python311\\Lib\\site-packages\\sklearn\\cluster\\_kmeans.py:1416: FutureWarning: The default value of `n_init` will change from 10 to 'auto' in 1.4. Set the value of `n_init` explicitly to suppress the warning\n",
      "  super()._check_params_vs_input(X, default_n_init=10)\n"
     ]
    }
   ],
   "source": [
    "from sklearn.cluster import KMeans\n",
    "\n",
    "def kmeans(data_scaled):\n",
    "    # Define the number of clusters\n",
    "    k = 2\n",
    "    \n",
    "    # Initialize KMeans object\n",
    "    kmeans = KMeans(n_clusters=k)\n",
    "    \n",
    "    # Fit the k-means algorithm on scaled data\n",
    "    kmeans.fit(data_scaled)\n",
    "    \n",
    "    # Return the fitted kmeans object\n",
    "    return kmeans\n",
    "\n",
    "# Call the kmeans function with scaled data\n",
    "kmeans_model = kmeans(data_scaled)"
   ]
  },
  {
   "cell_type": "markdown",
   "metadata": {},
   "source": [
    "**Step 7:** Use the inertia method to find the good number of clusters. Try clusters form 1 to 20"
   ]
  },
  {
   "cell_type": "code",
   "execution_count": 7,
   "metadata": {
    "scrolled": true
   },
   "outputs": [
    {
     "name": "stderr",
     "output_type": "stream",
     "text": [
      "C:\\Users\\haJy\\AppData\\Local\\Programs\\Python\\Python311\\Lib\\site-packages\\sklearn\\cluster\\_kmeans.py:1416: FutureWarning: The default value of `n_init` will change from 10 to 'auto' in 1.4. Set the value of `n_init` explicitly to suppress the warning\n",
      "  super()._check_params_vs_input(X, default_n_init=10)\n",
      "C:\\Users\\haJy\\AppData\\Local\\Programs\\Python\\Python311\\Lib\\site-packages\\sklearn\\cluster\\_kmeans.py:1416: FutureWarning: The default value of `n_init` will change from 10 to 'auto' in 1.4. Set the value of `n_init` explicitly to suppress the warning\n",
      "  super()._check_params_vs_input(X, default_n_init=10)\n",
      "C:\\Users\\haJy\\AppData\\Local\\Programs\\Python\\Python311\\Lib\\site-packages\\sklearn\\cluster\\_kmeans.py:1416: FutureWarning: The default value of `n_init` will change from 10 to 'auto' in 1.4. Set the value of `n_init` explicitly to suppress the warning\n",
      "  super()._check_params_vs_input(X, default_n_init=10)\n",
      "C:\\Users\\haJy\\AppData\\Local\\Programs\\Python\\Python311\\Lib\\site-packages\\sklearn\\cluster\\_kmeans.py:1416: FutureWarning: The default value of `n_init` will change from 10 to 'auto' in 1.4. Set the value of `n_init` explicitly to suppress the warning\n",
      "  super()._check_params_vs_input(X, default_n_init=10)\n",
      "C:\\Users\\haJy\\AppData\\Local\\Programs\\Python\\Python311\\Lib\\site-packages\\sklearn\\cluster\\_kmeans.py:1416: FutureWarning: The default value of `n_init` will change from 10 to 'auto' in 1.4. Set the value of `n_init` explicitly to suppress the warning\n",
      "  super()._check_params_vs_input(X, default_n_init=10)\n",
      "C:\\Users\\haJy\\AppData\\Local\\Programs\\Python\\Python311\\Lib\\site-packages\\sklearn\\cluster\\_kmeans.py:1416: FutureWarning: The default value of `n_init` will change from 10 to 'auto' in 1.4. Set the value of `n_init` explicitly to suppress the warning\n",
      "  super()._check_params_vs_input(X, default_n_init=10)\n",
      "C:\\Users\\haJy\\AppData\\Local\\Programs\\Python\\Python311\\Lib\\site-packages\\sklearn\\cluster\\_kmeans.py:1416: FutureWarning: The default value of `n_init` will change from 10 to 'auto' in 1.4. Set the value of `n_init` explicitly to suppress the warning\n",
      "  super()._check_params_vs_input(X, default_n_init=10)\n",
      "C:\\Users\\haJy\\AppData\\Local\\Programs\\Python\\Python311\\Lib\\site-packages\\sklearn\\cluster\\_kmeans.py:1416: FutureWarning: The default value of `n_init` will change from 10 to 'auto' in 1.4. Set the value of `n_init` explicitly to suppress the warning\n",
      "  super()._check_params_vs_input(X, default_n_init=10)\n",
      "C:\\Users\\haJy\\AppData\\Local\\Programs\\Python\\Python311\\Lib\\site-packages\\sklearn\\cluster\\_kmeans.py:1416: FutureWarning: The default value of `n_init` will change from 10 to 'auto' in 1.4. Set the value of `n_init` explicitly to suppress the warning\n",
      "  super()._check_params_vs_input(X, default_n_init=10)\n",
      "C:\\Users\\haJy\\AppData\\Local\\Programs\\Python\\Python311\\Lib\\site-packages\\sklearn\\cluster\\_kmeans.py:1416: FutureWarning: The default value of `n_init` will change from 10 to 'auto' in 1.4. Set the value of `n_init` explicitly to suppress the warning\n",
      "  super()._check_params_vs_input(X, default_n_init=10)\n",
      "C:\\Users\\haJy\\AppData\\Local\\Programs\\Python\\Python311\\Lib\\site-packages\\sklearn\\cluster\\_kmeans.py:1416: FutureWarning: The default value of `n_init` will change from 10 to 'auto' in 1.4. Set the value of `n_init` explicitly to suppress the warning\n",
      "  super()._check_params_vs_input(X, default_n_init=10)\n",
      "C:\\Users\\haJy\\AppData\\Local\\Programs\\Python\\Python311\\Lib\\site-packages\\sklearn\\cluster\\_kmeans.py:1416: FutureWarning: The default value of `n_init` will change from 10 to 'auto' in 1.4. Set the value of `n_init` explicitly to suppress the warning\n",
      "  super()._check_params_vs_input(X, default_n_init=10)\n",
      "C:\\Users\\haJy\\AppData\\Local\\Programs\\Python\\Python311\\Lib\\site-packages\\sklearn\\cluster\\_kmeans.py:1416: FutureWarning: The default value of `n_init` will change from 10 to 'auto' in 1.4. Set the value of `n_init` explicitly to suppress the warning\n",
      "  super()._check_params_vs_input(X, default_n_init=10)\n",
      "C:\\Users\\haJy\\AppData\\Local\\Programs\\Python\\Python311\\Lib\\site-packages\\sklearn\\cluster\\_kmeans.py:1416: FutureWarning: The default value of `n_init` will change from 10 to 'auto' in 1.4. Set the value of `n_init` explicitly to suppress the warning\n",
      "  super()._check_params_vs_input(X, default_n_init=10)\n",
      "C:\\Users\\haJy\\AppData\\Local\\Programs\\Python\\Python311\\Lib\\site-packages\\sklearn\\cluster\\_kmeans.py:1416: FutureWarning: The default value of `n_init` will change from 10 to 'auto' in 1.4. Set the value of `n_init` explicitly to suppress the warning\n",
      "  super()._check_params_vs_input(X, default_n_init=10)\n",
      "C:\\Users\\haJy\\AppData\\Local\\Programs\\Python\\Python311\\Lib\\site-packages\\sklearn\\cluster\\_kmeans.py:1416: FutureWarning: The default value of `n_init` will change from 10 to 'auto' in 1.4. Set the value of `n_init` explicitly to suppress the warning\n",
      "  super()._check_params_vs_input(X, default_n_init=10)\n",
      "C:\\Users\\haJy\\AppData\\Local\\Programs\\Python\\Python311\\Lib\\site-packages\\sklearn\\cluster\\_kmeans.py:1416: FutureWarning: The default value of `n_init` will change from 10 to 'auto' in 1.4. Set the value of `n_init` explicitly to suppress the warning\n",
      "  super()._check_params_vs_input(X, default_n_init=10)\n",
      "C:\\Users\\haJy\\AppData\\Local\\Programs\\Python\\Python311\\Lib\\site-packages\\sklearn\\cluster\\_kmeans.py:1416: FutureWarning: The default value of `n_init` will change from 10 to 'auto' in 1.4. Set the value of `n_init` explicitly to suppress the warning\n",
      "  super()._check_params_vs_input(X, default_n_init=10)\n",
      "C:\\Users\\haJy\\AppData\\Local\\Programs\\Python\\Python311\\Lib\\site-packages\\sklearn\\cluster\\_kmeans.py:1416: FutureWarning: The default value of `n_init` will change from 10 to 'auto' in 1.4. Set the value of `n_init` explicitly to suppress the warning\n",
      "  super()._check_params_vs_input(X, default_n_init=10)\n",
      "C:\\Users\\haJy\\AppData\\Local\\Programs\\Python\\Python311\\Lib\\site-packages\\sklearn\\cluster\\_kmeans.py:1416: FutureWarning: The default value of `n_init` will change from 10 to 'auto' in 1.4. Set the value of `n_init` explicitly to suppress the warning\n",
      "  super()._check_params_vs_input(X, default_n_init=10)\n"
     ]
    }
   ],
   "source": [
    "import matplotlib.pyplot as plt\n",
    "\n",
    "# Initialize an empty list to store inertia values\n",
    "inertia_values = []\n",
    "\n",
    "# Try clusters from 1 to 20\n",
    "for k in range(1, 21):\n",
    "    # Initialize KMeans object with k clusters\n",
    "    kmeans = KMeans(n_clusters=k, random_state=42)\n",
    "    \n",
    "    # Fit the k-means algorithm on scaled data\n",
    "    kmeans.fit(data_scaled)\n",
    "    \n",
    "    # Append the inertia value to the list\n",
    "    inertia_values.append(kmeans.inertia_)"
   ]
  },
  {
   "cell_type": "markdown",
   "metadata": {},
   "source": [
    "**Step 8:** Convert the results into a dataframe and plotting them"
   ]
  },
  {
   "cell_type": "code",
   "execution_count": 8,
   "metadata": {},
   "outputs": [
    {
     "data": {
      "image/png": "[encoded data removed]",
      "text/plain": [
       "<Figure size 1000x600 with 1 Axes>"
      ]
     },
     "metadata": {},
     "output_type": "display_data"
    }
   ],
   "source": [
    "# Initialize an empty DataFrame to store results\n",
    "results_df = pd.DataFrame({\n",
    "    'Number of Clusters': range(1, 21),\n",
    "    'Inertia': inertia_values\n",
    "})\n",
    "\n",
    "# Plot the results\n",
    "plt.figure(figsize=(10, 6))\n",
    "plt.plot(results_df['Number of Clusters'], results_df['Inertia'], marker='o')\n",
    "plt.xlabel('Number of Clusters')\n",
    "plt.ylabel('Inertia')\n",
    "plt.title('Inertia vs. Number of Clusters')\n",
    "plt.grid(True)\n",
    "plt.show()"
   ]
  },
  {
   "cell_type": "markdown",
   "metadata": {},
   "source": [
    "**Step 9**: Define the kmeans function with the best umber of clusters and fit the k-means algorithm on scaled data"
   ]
  },
  {
   "cell_type": "code",
   "execution_count": 9,
   "metadata": {},
   "outputs": [
    {
     "name": "stderr",
     "output_type": "stream",
     "text": [
      "C:\\Users\\haJy\\AppData\\Local\\Programs\\Python\\Python311\\Lib\\site-packages\\sklearn\\cluster\\_kmeans.py:1416: FutureWarning: The default value of `n_init` will change from 10 to 'auto' in 1.4. Set the value of `n_init` explicitly to suppress the warning\n",
      "  super()._check_params_vs_input(X, default_n_init=10)\n"
     ]
    }
   ],
   "source": [
    "def kmeans(data_scaled, num_clusters):\n",
    "    # Initialize KMeans object with the specified number of clusters\n",
    "    kmeans = KMeans(n_clusters=num_clusters, random_state=42)\n",
    "    \n",
    "    # Fit the k-means algorithm on scaled data\n",
    "    kmeans.fit(data_scaled)\n",
    "    \n",
    "    # Return the fitted kmeans object\n",
    "    return kmeans\n",
    "\n",
    "# Get the best number of clusters based on the elbow method\n",
    "best_num_clusters = 5  # Adjust this based on the plot\n",
    "\n",
    "# Call the kmeans function with scaled data and the best number of clusters\n",
    "kmeans_model = kmeans(data_scaled, best_num_clusters)"
   ]
  },
  {
   "cell_type": "markdown",
   "metadata": {},
   "source": [
    "**Step 10 :** Predict the clusters of the scaled data"
   ]
  },
  {
   "cell_type": "code",
   "execution_count": 10,
   "metadata": {},
   "outputs": [
    {
     "name": "stdout",
     "output_type": "stream",
     "text": [
      "   Channel  Region  Fresh  Milk  Grocery  Frozen  Detergents_Paper  \\\n",
      "0        2       3  12669  9656     7561     214              2674   \n",
      "1        2       3   7057  9810     9568    1762              3293   \n",
      "2        2       3   6353  8808     7684    2405              3516   \n",
      "3        1       3  13265  1196     4221    6404               507   \n",
      "4        2       3  22615  5410     7198    3915              1777   \n",
      "\n",
      "   Delicassen  Cluster  \n",
      "0        1338        1  \n",
      "1        1776        1  \n",
      "2        7844        1  \n",
      "3        1788        3  \n",
      "4        5185        1  \n"
     ]
    }
   ],
   "source": [
    "# Predict the clusters of the scaled data\n",
    "cluster_labels = kmeans_model.predict(data_scaled)\n",
    "\n",
    "# Add the cluster labels to the original DataFrame\n",
    "data_with_clusters = data_csv.copy()  # Make a copy of the original data\n",
    "data_with_clusters['Cluster'] = cluster_labels\n",
    "\n",
    "# Display the first few rows of the data with cluster labels\n",
    "print(data_with_clusters.head())"
   ]
  },
  {
   "cell_type": "markdown",
   "metadata": {},
   "source": [
    "**Step 11 :** Create a data frame that merge scaled data and their clusters "
   ]
  },
  {
   "cell_type": "code",
   "execution_count": 11,
   "metadata": {},
   "outputs": [
    {
     "name": "stdout",
     "output_type": "stream",
     "text": [
      "    Channel    Region     Fresh      Milk   Grocery    Frozen  \\\n",
      "0  1.448652  0.590668  0.052933  0.523568 -0.041115 -0.589367   \n",
      "1  1.448652  0.590668 -0.391302  0.544458  0.170318 -0.270136   \n",
      "2  1.448652  0.590668 -0.447029  0.408538 -0.028157 -0.137536   \n",
      "3 -0.690297  0.590668  0.100111 -0.624020 -0.392977  0.687144   \n",
      "4  1.448652  0.590668  0.840239 -0.052396 -0.079356  0.173859   \n",
      "\n",
      "   Detergents_Paper  Delicassen  Cluster  \n",
      "0         -0.043569   -0.066339        1  \n",
      "1          0.086407    0.089151        1  \n",
      "2          0.133232    2.243293        1  \n",
      "3         -0.498588    0.093411        3  \n",
      "4         -0.231918    1.299347        1  \n"
     ]
    }
   ],
   "source": [
    "# Convert cluster labels to DataFrame\n",
    "cluster_labels_df = pd.DataFrame(cluster_labels, columns=['Cluster'])\n",
    "\n",
    "# Concatenate scaled data and cluster labels\n",
    "merged_data = pd.concat([data_scaled, cluster_labels_df], axis=1)\n",
    "\n",
    "# Display the first few rows of the merged DataFrame\n",
    "print(merged_data.head())"
   ]
  },
  {
   "cell_type": "markdown",
   "metadata": {},
   "source": [
    "**Step 12 :** Print the distribution of each cluster"
   ]
  },
  {
   "cell_type": "code",
   "execution_count": 12,
   "metadata": {},
   "outputs": [
    {
     "name": "stdout",
     "output_type": "stream",
     "text": [
      "Cluster Distribution:\n",
      "Cluster\n",
      "3    207\n",
      "1    126\n",
      "2     91\n",
      "4     10\n",
      "0      6\n",
      "Name: count, dtype: int64\n"
     ]
    }
   ],
   "source": [
    "# Print the distribution of each cluster\n",
    "cluster_distribution = merged_data['Cluster'].value_counts()\n",
    "print(\"Cluster Distribution:\")\n",
    "print(cluster_distribution)"
   ]
  },
  {
   "cell_type": "markdown",
   "metadata": {},
   "source": [
    "# Data Mining: Basket Analysis"
   ]
  },
  {
   "cell_type": "markdown",
   "metadata": {},
   "source": [
    "**Step 1:** Load the dataset (data_UFAZ/Online_Retail.xlsx). Output the first five rows to inspect the data content."
   ]
  },
  {
   "cell_type": "code",
   "execution_count": 13,
   "metadata": {},
   "outputs": [
    {
     "name": "stdout",
     "output_type": "stream",
     "text": [
      "  InvoiceNo StockCode                          Description  Quantity  \\\n",
      "0    536365    85123A   WHITE HANGING HEART T-LIGHT HOLDER         6   \n",
      "1    536365     71053                  WHITE METAL LANTERN         6   \n",
      "2    536365    84406B       CREAM CUPID HEARTS COAT HANGER         8   \n",
      "3    536365    84029G  KNITTED UNION FLAG HOT WATER BOTTLE         6   \n",
      "4    536365    84029E       RED WOOLLY HOTTIE WHITE HEART.         6   \n",
      "\n",
      "          InvoiceDate  UnitPrice  CustomerID         Country  \n",
      "0 2010-12-01 08:26:00       2.55     17850.0  United Kingdom  \n",
      "1 2010-12-01 08:26:00       3.39     17850.0  United Kingdom  \n",
      "2 2010-12-01 08:26:00       2.75     17850.0  United Kingdom  \n",
      "3 2010-12-01 08:26:00       3.39     17850.0  United Kingdom  \n",
      "4 2010-12-01 08:26:00       3.39     17850.0  United Kingdom  \n"
     ]
    }
   ],
   "source": [
    "import pandas as pd\n",
    "\n",
    "data_excel = pd.read_excel(\"Online Retail.xlsx\")\n",
    "\n",
    "print(data_excel.head(5))"
   ]
  },
  {
   "cell_type": "markdown",
   "metadata": {},
   "source": [
    "**Step 2:** Check some statistics using the function `.describe()`."
   ]
  },
  {
   "cell_type": "code",
   "execution_count": 14,
   "metadata": {},
   "outputs": [
    {
     "data": {
      "text/html": [
       "<div>\n",
       "<style scoped>\n",
       "    .dataframe tbody tr th:only-of-type {\n",
       "        vertical-align: middle;\n",
       "    }\n",
       "\n",
       "    .dataframe tbody tr th {\n",
       "        vertical-align: top;\n",
       "    }\n",
       "\n",
       "    .dataframe thead th {\n",
       "        text-align: right;\n",
       "    }\n",
       "</style>\n",
       "<table border=\"1\" class=\"dataframe\">\n",
       "  <thead>\n",
       "    <tr style=\"text-align: right;\">\n",
       "      <th></th>\n",
       "      <th>Quantity</th>\n",
       "      <th>InvoiceDate</th>\n",
       "      <th>UnitPrice</th>\n",
       "      <th>CustomerID</th>\n",
       "    </tr>\n",
       "  </thead>\n",
       "  <tbody>\n",
       "    <tr>\n",
       "      <th>count</th>\n",
       "      <td>541909.000000</td>\n",
       "      <td>541909</td>\n",
       "      <td>541909.000000</td>\n",
       "      <td>406829.000000</td>\n",
       "    </tr>\n",
       "    <tr>\n",
       "      <th>mean</th>\n",
       "      <td>9.552250</td>\n",
       "      <td>2011-07-04 13:34:57.156386048</td>\n",
       "      <td>4.611114</td>\n",
       "      <td>15287.690570</td>\n",
       "    </tr>\n",
       "    <tr>\n",
       "      <th>min</th>\n",
       "      <td>-80995.000000</td>\n",
       "      <td>2010-12-01 08:26:00</td>\n",
       "      <td>-11062.060000</td>\n",
       "      <td>12346.000000</td>\n",
       "    </tr>\n",
       "    <tr>\n",
       "      <th>25%</th>\n",
       "      <td>1.000000</td>\n",
       "      <td>2011-03-28 11:34:00</td>\n",
       "      <td>1.250000</td>\n",
       "      <td>13953.000000</td>\n",
       "    </tr>\n",
       "    <tr>\n",
       "      <th>50%</th>\n",
       "      <td>3.000000</td>\n",
       "      <td>2011-07-19 17:17:00</td>\n",
       "      <td>2.080000</td>\n",
       "      <td>15152.000000</td>\n",
       "    </tr>\n",
       "    <tr>\n",
       "      <th>75%</th>\n",
       "      <td>10.000000</td>\n",
       "      <td>2011-10-19 11:27:00</td>\n",
       "      <td>4.130000</td>\n",
       "      <td>16791.000000</td>\n",
       "    </tr>\n",
       "    <tr>\n",
       "      <th>max</th>\n",
       "      <td>80995.000000</td>\n",
       "      <td>2011-12-09 12:50:00</td>\n",
       "      <td>38970.000000</td>\n",
       "      <td>18287.000000</td>\n",
       "    </tr>\n",
       "    <tr>\n",
       "      <th>std</th>\n",
       "      <td>218.081158</td>\n",
       "      <td>NaN</td>\n",
       "      <td>96.759853</td>\n",
       "      <td>1713.600303</td>\n",
       "    </tr>\n",
       "  </tbody>\n",
       "</table>\n",
       "</div>"
      ],
      "text/plain": [
       "            Quantity                    InvoiceDate      UnitPrice  \\\n",
       "count  541909.000000                         541909  541909.000000   \n",
       "mean        9.552250  2011-07-04 13:34:57.156386048       4.611114   \n",
       "min    -80995.000000            2010-12-01 08:26:00  -11062.060000   \n",
       "25%         1.000000            2011-03-28 11:34:00       1.250000   \n",
       "50%         3.000000            2011-07-19 17:17:00       2.080000   \n",
       "75%        10.000000            2011-10-19 11:27:00       4.130000   \n",
       "max     80995.000000            2011-12-09 12:50:00   38970.000000   \n",
       "std       218.081158                            NaN      96.759853   \n",
       "\n",
       "          CustomerID  \n",
       "count  406829.000000  \n",
       "mean    15287.690570  \n",
       "min     12346.000000  \n",
       "25%     13953.000000  \n",
       "50%     15152.000000  \n",
       "75%     16791.000000  \n",
       "max     18287.000000  \n",
       "std      1713.600303  "
      ]
     },
     "execution_count": 14,
     "metadata": {},
     "output_type": "execute_result"
    }
   ],
   "source": [
    "data_excel.describe()"
   ]
  },
  {
   "cell_type": "markdown",
   "metadata": {},
   "source": [
    "# Data Preprocessing"
   ]
  },
  {
   "cell_type": "markdown",
   "metadata": {},
   "source": [
    "**Step 3:** Data cleaning: remove the extra spaces in the column `Description` using the function `.str.strip()`."
   ]
  },
  {
   "cell_type": "code",
   "execution_count": 15,
   "metadata": {},
   "outputs": [
    {
     "name": "stdout",
     "output_type": "stream",
     "text": [
      "       InvoiceNo StockCode                          Description  Quantity  \\\n",
      "0         536365    85123A   WHITE HANGING HEART T-LIGHT HOLDER         6   \n",
      "1         536365     71053                  WHITE METAL LANTERN         6   \n",
      "2         536365    84406B       CREAM CUPID HEARTS COAT HANGER         8   \n",
      "3         536365    84029G  KNITTED UNION FLAG HOT WATER BOTTLE         6   \n",
      "4         536365    84029E       RED WOOLLY HOTTIE WHITE HEART.         6   \n",
      "...          ...       ...                                  ...       ...   \n",
      "541904    581587     22613          PACK OF 20 SPACEBOY NAPKINS        12   \n",
      "541905    581587     22899         CHILDREN'S APRON DOLLY GIRL          6   \n",
      "541906    581587     23254        CHILDRENS CUTLERY DOLLY GIRL          4   \n",
      "541907    581587     23255      CHILDRENS CUTLERY CIRCUS PARADE         4   \n",
      "541908    581587     22138        BAKING SET 9 PIECE RETROSPOT          3   \n",
      "\n",
      "               InvoiceDate  UnitPrice  CustomerID         Country  \n",
      "0      2010-12-01 08:26:00       2.55     17850.0  United Kingdom  \n",
      "1      2010-12-01 08:26:00       3.39     17850.0  United Kingdom  \n",
      "2      2010-12-01 08:26:00       2.75     17850.0  United Kingdom  \n",
      "3      2010-12-01 08:26:00       3.39     17850.0  United Kingdom  \n",
      "4      2010-12-01 08:26:00       3.39     17850.0  United Kingdom  \n",
      "...                    ...        ...         ...             ...  \n",
      "541904 2011-12-09 12:50:00       0.85     12680.0          France  \n",
      "541905 2011-12-09 12:50:00       2.10     12680.0          France  \n",
      "541906 2011-12-09 12:50:00       4.15     12680.0          France  \n",
      "541907 2011-12-09 12:50:00       4.15     12680.0          France  \n",
      "541908 2011-12-09 12:50:00       4.95     12680.0          France  \n",
      "\n",
      "[541909 rows x 8 columns]\n"
     ]
    }
   ],
   "source": [
    "print(data_excel)\n",
    "data_excel['Description'] = data_excel['Description'].str.strip()\n"
   ]
  },
  {
   "cell_type": "markdown",
   "metadata": {},
   "source": [
    "**Step 4:** Drop the rows that are without Invoice Number using the function `df.dropna`.  drop also products without a defined category."
   ]
  },
  {
   "cell_type": "code",
   "execution_count": 16,
   "metadata": {},
   "outputs": [
    {
     "data": {
      "text/html": [
       "<div>\n",
       "<style scoped>\n",
       "    .dataframe tbody tr th:only-of-type {\n",
       "        vertical-align: middle;\n",
       "    }\n",
       "\n",
       "    .dataframe tbody tr th {\n",
       "        vertical-align: top;\n",
       "    }\n",
       "\n",
       "    .dataframe thead th {\n",
       "        text-align: right;\n",
       "    }\n",
       "</style>\n",
       "<table border=\"1\" class=\"dataframe\">\n",
       "  <thead>\n",
       "    <tr style=\"text-align: right;\">\n",
       "      <th></th>\n",
       "      <th>InvoiceNo</th>\n",
       "      <th>StockCode</th>\n",
       "      <th>Description</th>\n",
       "      <th>Quantity</th>\n",
       "      <th>InvoiceDate</th>\n",
       "      <th>UnitPrice</th>\n",
       "      <th>CustomerID</th>\n",
       "      <th>Country</th>\n",
       "    </tr>\n",
       "  </thead>\n",
       "  <tbody>\n",
       "    <tr>\n",
       "      <th>0</th>\n",
       "      <td>536365</td>\n",
       "      <td>85123A</td>\n",
       "      <td>WHITE HANGING HEART T-LIGHT HOLDER</td>\n",
       "      <td>6</td>\n",
       "      <td>2010-12-01 08:26:00</td>\n",
       "      <td>2.55</td>\n",
       "      <td>17850.0</td>\n",
       "      <td>United Kingdom</td>\n",
       "    </tr>\n",
       "    <tr>\n",
       "      <th>1</th>\n",
       "      <td>536365</td>\n",
       "      <td>71053</td>\n",
       "      <td>WHITE METAL LANTERN</td>\n",
       "      <td>6</td>\n",
       "      <td>2010-12-01 08:26:00</td>\n",
       "      <td>3.39</td>\n",
       "      <td>17850.0</td>\n",
       "      <td>United Kingdom</td>\n",
       "    </tr>\n",
       "    <tr>\n",
       "      <th>2</th>\n",
       "      <td>536365</td>\n",
       "      <td>84406B</td>\n",
       "      <td>CREAM CUPID HEARTS COAT HANGER</td>\n",
       "      <td>8</td>\n",
       "      <td>2010-12-01 08:26:00</td>\n",
       "      <td>2.75</td>\n",
       "      <td>17850.0</td>\n",
       "      <td>United Kingdom</td>\n",
       "    </tr>\n",
       "    <tr>\n",
       "      <th>3</th>\n",
       "      <td>536365</td>\n",
       "      <td>84029G</td>\n",
       "      <td>KNITTED UNION FLAG HOT WATER BOTTLE</td>\n",
       "      <td>6</td>\n",
       "      <td>2010-12-01 08:26:00</td>\n",
       "      <td>3.39</td>\n",
       "      <td>17850.0</td>\n",
       "      <td>United Kingdom</td>\n",
       "    </tr>\n",
       "    <tr>\n",
       "      <th>4</th>\n",
       "      <td>536365</td>\n",
       "      <td>84029E</td>\n",
       "      <td>RED WOOLLY HOTTIE WHITE HEART.</td>\n",
       "      <td>6</td>\n",
       "      <td>2010-12-01 08:26:00</td>\n",
       "      <td>3.39</td>\n",
       "      <td>17850.0</td>\n",
       "      <td>United Kingdom</td>\n",
       "    </tr>\n",
       "    <tr>\n",
       "      <th>...</th>\n",
       "      <td>...</td>\n",
       "      <td>...</td>\n",
       "      <td>...</td>\n",
       "      <td>...</td>\n",
       "      <td>...</td>\n",
       "      <td>...</td>\n",
       "      <td>...</td>\n",
       "      <td>...</td>\n",
       "    </tr>\n",
       "    <tr>\n",
       "      <th>541904</th>\n",
       "      <td>581587</td>\n",
       "      <td>22613</td>\n",
       "      <td>PACK OF 20 SPACEBOY NAPKINS</td>\n",
       "      <td>12</td>\n",
       "      <td>2011-12-09 12:50:00</td>\n",
       "      <td>0.85</td>\n",
       "      <td>12680.0</td>\n",
       "      <td>France</td>\n",
       "    </tr>\n",
       "    <tr>\n",
       "      <th>541905</th>\n",
       "      <td>581587</td>\n",
       "      <td>22899</td>\n",
       "      <td>CHILDREN'S APRON DOLLY GIRL</td>\n",
       "      <td>6</td>\n",
       "      <td>2011-12-09 12:50:00</td>\n",
       "      <td>2.10</td>\n",
       "      <td>12680.0</td>\n",
       "      <td>France</td>\n",
       "    </tr>\n",
       "    <tr>\n",
       "      <th>541906</th>\n",
       "      <td>581587</td>\n",
       "      <td>23254</td>\n",
       "      <td>CHILDRENS CUTLERY DOLLY GIRL</td>\n",
       "      <td>4</td>\n",
       "      <td>2011-12-09 12:50:00</td>\n",
       "      <td>4.15</td>\n",
       "      <td>12680.0</td>\n",
       "      <td>France</td>\n",
       "    </tr>\n",
       "    <tr>\n",
       "      <th>541907</th>\n",
       "      <td>581587</td>\n",
       "      <td>23255</td>\n",
       "      <td>CHILDRENS CUTLERY CIRCUS PARADE</td>\n",
       "      <td>4</td>\n",
       "      <td>2011-12-09 12:50:00</td>\n",
       "      <td>4.15</td>\n",
       "      <td>12680.0</td>\n",
       "      <td>France</td>\n",
       "    </tr>\n",
       "    <tr>\n",
       "      <th>541908</th>\n",
       "      <td>581587</td>\n",
       "      <td>22138</td>\n",
       "      <td>BAKING SET 9 PIECE RETROSPOT</td>\n",
       "      <td>3</td>\n",
       "      <td>2011-12-09 12:50:00</td>\n",
       "      <td>4.95</td>\n",
       "      <td>12680.0</td>\n",
       "      <td>France</td>\n",
       "    </tr>\n",
       "  </tbody>\n",
       "</table>\n",
       "<p>540454 rows × 8 columns</p>\n",
       "</div>"
      ],
      "text/plain": [
       "       InvoiceNo StockCode                          Description  Quantity  \\\n",
       "0         536365    85123A   WHITE HANGING HEART T-LIGHT HOLDER         6   \n",
       "1         536365     71053                  WHITE METAL LANTERN         6   \n",
       "2         536365    84406B       CREAM CUPID HEARTS COAT HANGER         8   \n",
       "3         536365    84029G  KNITTED UNION FLAG HOT WATER BOTTLE         6   \n",
       "4         536365    84029E       RED WOOLLY HOTTIE WHITE HEART.         6   \n",
       "...          ...       ...                                  ...       ...   \n",
       "541904    581587     22613          PACK OF 20 SPACEBOY NAPKINS        12   \n",
       "541905    581587     22899          CHILDREN'S APRON DOLLY GIRL         6   \n",
       "541906    581587     23254         CHILDRENS CUTLERY DOLLY GIRL         4   \n",
       "541907    581587     23255      CHILDRENS CUTLERY CIRCUS PARADE         4   \n",
       "541908    581587     22138         BAKING SET 9 PIECE RETROSPOT         3   \n",
       "\n",
       "               InvoiceDate  UnitPrice  CustomerID         Country  \n",
       "0      2010-12-01 08:26:00       2.55     17850.0  United Kingdom  \n",
       "1      2010-12-01 08:26:00       3.39     17850.0  United Kingdom  \n",
       "2      2010-12-01 08:26:00       2.75     17850.0  United Kingdom  \n",
       "3      2010-12-01 08:26:00       3.39     17850.0  United Kingdom  \n",
       "4      2010-12-01 08:26:00       3.39     17850.0  United Kingdom  \n",
       "...                    ...        ...         ...             ...  \n",
       "541904 2011-12-09 12:50:00       0.85     12680.0          France  \n",
       "541905 2011-12-09 12:50:00       2.10     12680.0          France  \n",
       "541906 2011-12-09 12:50:00       4.15     12680.0          France  \n",
       "541907 2011-12-09 12:50:00       4.15     12680.0          France  \n",
       "541908 2011-12-09 12:50:00       4.95     12680.0          France  \n",
       "\n",
       "[540454 rows x 8 columns]"
      ]
     },
     "execution_count": 16,
     "metadata": {},
     "output_type": "execute_result"
    }
   ],
   "source": [
    "data_excel = data_excel.dropna(subset=['InvoiceNo','Description'])\n",
    "data_excel"
   ]
  },
  {
   "cell_type": "markdown",
   "metadata": {},
   "source": [
    "**Step 5:** Make the `InvoiceNo` column values as string using the function `astype('str')`."
   ]
  },
  {
   "cell_type": "code",
   "execution_count": 17,
   "metadata": {},
   "outputs": [],
   "source": [
    "data_excel['InvoiceNo'] = data_excel['InvoiceNo'].astype('str')"
   ]
  },
  {
   "cell_type": "markdown",
   "metadata": {},
   "source": [
    "# One Hot Encode"
   ]
  },
  {
   "cell_type": "markdown",
   "metadata": {},
   "source": [
    "**Step 6:** Extract InvoiceNo and Description from the dataframe. Use then the groupby function and convert the Description field to a list"
   ]
  },
  {
   "cell_type": "code",
   "execution_count": 18,
   "metadata": {},
   "outputs": [
    {
     "name": "stdout",
     "output_type": "stream",
     "text": [
      "      InvoiceNo                                        Description\n",
      "0        536365  [WHITE HANGING HEART T-LIGHT HOLDER, WHITE MET...\n",
      "1        536366  [HAND WARMER UNION JACK, HAND WARMER RED POLKA...\n",
      "2        536367  [ASSORTED COLOUR BIRD ORNAMENT, POPPY'S PLAYHO...\n",
      "3        536368  [JAM MAKING SET WITH JARS, RED COAT RACK PARIS...\n",
      "4        536369                         [BATH BUILDING BLOCK WORD]\n",
      "...         ...                                                ...\n",
      "24440   C581484                      [PAPER CRAFT , LITTLE BIRDIE]\n",
      "24441   C581490  [VICTORIAN GLASS HANGING T-LIGHT, ZINC T-LIGHT...\n",
      "24442   C581499                                           [Manual]\n",
      "24443   C581568                       [VICTORIAN SEWING BOX LARGE]\n",
      "24444   C581569  [HANGING HEART JAR T-LIGHT HOLDER, 36 PENCILS ...\n",
      "\n",
      "[24445 rows x 2 columns]\n"
     ]
    }
   ],
   "source": [
    "invoice_description = data_excel[['InvoiceNo', 'Description']]\n",
    "\n",
    "data_new = invoice_description.groupby('InvoiceNo')['Description'].agg(list).reset_index()\n",
    "print(data_new)\n"
   ]
  },
  {
   "cell_type": "markdown",
   "metadata": {},
   "source": [
    "**step 7** Plot the 50 largest categories of transactions."
   ]
  },
  {
   "cell_type": "code",
   "execution_count": 19,
   "metadata": {},
   "outputs": [
    {
     "data": {
      "image/png": "[encoded data removed]",
      "text/plain": [
       "<Figure size 1000x800 with 1 Axes>"
      ]
     },
     "metadata": {},
     "output_type": "display_data"
    }
   ],
   "source": [
    "import matplotlib.pyplot as plt\n",
    "description_counts = data_new['Description'].explode().value_counts()\n",
    "top_50_categories = description_counts.head(50)\n",
    "\n",
    "plt.figure(figsize=(10, 8))\n",
    "top_50_categories.plot(kind='bar')\n",
    "plt.title('Top 50 Categories of Transactions')\n",
    "plt.xlabel('Description')\n",
    "plt.ylabel('Frequency')\n",
    "plt.xticks(rotation=90)\n",
    "plt.show()"
   ]
  },
  {
   "cell_type": "markdown",
   "metadata": {},
   "source": [
    "**Step 8** To view the list of country in the dataset, apply Country.unique(). Apply the one hot encoding to France"
   ]
  },
  {
   "cell_type": "code",
   "execution_count": 20,
   "metadata": {},
   "outputs": [
    {
     "name": "stdout",
     "output_type": "stream",
     "text": [
      "Unique Countries: ['United Kingdom' 'France' 'Australia' 'Netherlands' 'Germany' 'Norway'\n",
      " 'EIRE' 'Switzerland' 'Spain' 'Poland' 'Portugal' 'Italy' 'Belgium'\n",
      " 'Lithuania' 'Japan' 'Iceland' 'Channel Islands' 'Denmark' 'Cyprus'\n",
      " 'Sweden' 'Austria' 'Israel' 'Finland' 'Bahrain' 'Greece' 'Hong Kong'\n",
      " 'Singapore' 'Lebanon' 'United Arab Emirates' 'Saudi Arabia'\n",
      " 'Czech Republic' 'Canada' 'Unspecified' 'Brazil' 'USA'\n",
      " 'European Community' 'Malta' 'RSA']\n"
     ]
    }
   ],
   "source": [
    "unique_countries = data_excel['Country'].unique()\n",
    "print(\"Unique Countries:\", unique_countries)\n",
    "data_excel['IsFrance'] = (data_excel['Country'] == 'France').astype(int)"
   ]
  },
  {
   "cell_type": "markdown",
   "metadata": {},
   "source": [
    "**Step 9** One hot encoding"
   ]
  },
  {
   "cell_type": "code",
   "execution_count": 21,
   "metadata": {},
   "outputs": [
    {
     "data": {
      "text/html": [
       "<div>\n",
       "<style scoped>\n",
       "    .dataframe tbody tr th:only-of-type {\n",
       "        vertical-align: middle;\n",
       "    }\n",
       "\n",
       "    .dataframe tbody tr th {\n",
       "        vertical-align: top;\n",
       "    }\n",
       "\n",
       "    .dataframe thead th {\n",
       "        text-align: right;\n",
       "    }\n",
       "</style>\n",
       "<table border=\"1\" class=\"dataframe\">\n",
       "  <thead>\n",
       "    <tr style=\"text-align: right;\">\n",
       "      <th></th>\n",
       "      <th>*Boombox Ipod Classic</th>\n",
       "      <th>*USB Office Mirror Ball</th>\n",
       "      <th>10 COLOUR SPACEBOY PEN</th>\n",
       "      <th>12 COLOURED PARTY BALLOONS</th>\n",
       "      <th>12 DAISY PEGS IN WOOD BOX</th>\n",
       "      <th>12 EGG HOUSE PAINTED WOOD</th>\n",
       "      <th>12 HANGING EGGS HAND PAINTED</th>\n",
       "      <th>12 IVORY ROSE PEG PLACE SETTINGS</th>\n",
       "      <th>12 MESSAGE CARDS WITH ENVELOPES</th>\n",
       "      <th>12 PENCIL SMALL TUBE WOODLAND</th>\n",
       "      <th>...</th>\n",
       "      <th>wrongly coded 20713</th>\n",
       "      <th>wrongly coded 23343</th>\n",
       "      <th>wrongly coded-23343</th>\n",
       "      <th>wrongly marked</th>\n",
       "      <th>wrongly marked 23343</th>\n",
       "      <th>wrongly marked carton 22804</th>\n",
       "      <th>wrongly marked. 23343 in box</th>\n",
       "      <th>wrongly sold (22719) barcode</th>\n",
       "      <th>wrongly sold as sets</th>\n",
       "      <th>wrongly sold sets</th>\n",
       "    </tr>\n",
       "  </thead>\n",
       "  <tbody>\n",
       "    <tr>\n",
       "      <th>0</th>\n",
       "      <td>False</td>\n",
       "      <td>False</td>\n",
       "      <td>False</td>\n",
       "      <td>False</td>\n",
       "      <td>False</td>\n",
       "      <td>False</td>\n",
       "      <td>False</td>\n",
       "      <td>False</td>\n",
       "      <td>False</td>\n",
       "      <td>False</td>\n",
       "      <td>...</td>\n",
       "      <td>False</td>\n",
       "      <td>False</td>\n",
       "      <td>False</td>\n",
       "      <td>False</td>\n",
       "      <td>False</td>\n",
       "      <td>False</td>\n",
       "      <td>False</td>\n",
       "      <td>False</td>\n",
       "      <td>False</td>\n",
       "      <td>False</td>\n",
       "    </tr>\n",
       "    <tr>\n",
       "      <th>1</th>\n",
       "      <td>False</td>\n",
       "      <td>False</td>\n",
       "      <td>False</td>\n",
       "      <td>False</td>\n",
       "      <td>False</td>\n",
       "      <td>False</td>\n",
       "      <td>False</td>\n",
       "      <td>False</td>\n",
       "      <td>False</td>\n",
       "      <td>False</td>\n",
       "      <td>...</td>\n",
       "      <td>False</td>\n",
       "      <td>False</td>\n",
       "      <td>False</td>\n",
       "      <td>False</td>\n",
       "      <td>False</td>\n",
       "      <td>False</td>\n",
       "      <td>False</td>\n",
       "      <td>False</td>\n",
       "      <td>False</td>\n",
       "      <td>False</td>\n",
       "    </tr>\n",
       "    <tr>\n",
       "      <th>2</th>\n",
       "      <td>False</td>\n",
       "      <td>False</td>\n",
       "      <td>False</td>\n",
       "      <td>False</td>\n",
       "      <td>False</td>\n",
       "      <td>False</td>\n",
       "      <td>False</td>\n",
       "      <td>False</td>\n",
       "      <td>False</td>\n",
       "      <td>False</td>\n",
       "      <td>...</td>\n",
       "      <td>False</td>\n",
       "      <td>False</td>\n",
       "      <td>False</td>\n",
       "      <td>False</td>\n",
       "      <td>False</td>\n",
       "      <td>False</td>\n",
       "      <td>False</td>\n",
       "      <td>False</td>\n",
       "      <td>False</td>\n",
       "      <td>False</td>\n",
       "    </tr>\n",
       "    <tr>\n",
       "      <th>3</th>\n",
       "      <td>False</td>\n",
       "      <td>False</td>\n",
       "      <td>False</td>\n",
       "      <td>False</td>\n",
       "      <td>False</td>\n",
       "      <td>False</td>\n",
       "      <td>False</td>\n",
       "      <td>False</td>\n",
       "      <td>False</td>\n",
       "      <td>False</td>\n",
       "      <td>...</td>\n",
       "      <td>False</td>\n",
       "      <td>False</td>\n",
       "      <td>False</td>\n",
       "      <td>False</td>\n",
       "      <td>False</td>\n",
       "      <td>False</td>\n",
       "      <td>False</td>\n",
       "      <td>False</td>\n",
       "      <td>False</td>\n",
       "      <td>False</td>\n",
       "    </tr>\n",
       "    <tr>\n",
       "      <th>4</th>\n",
       "      <td>False</td>\n",
       "      <td>False</td>\n",
       "      <td>False</td>\n",
       "      <td>False</td>\n",
       "      <td>False</td>\n",
       "      <td>False</td>\n",
       "      <td>False</td>\n",
       "      <td>False</td>\n",
       "      <td>False</td>\n",
       "      <td>False</td>\n",
       "      <td>...</td>\n",
       "      <td>False</td>\n",
       "      <td>False</td>\n",
       "      <td>False</td>\n",
       "      <td>False</td>\n",
       "      <td>False</td>\n",
       "      <td>False</td>\n",
       "      <td>False</td>\n",
       "      <td>False</td>\n",
       "      <td>False</td>\n",
       "      <td>False</td>\n",
       "    </tr>\n",
       "    <tr>\n",
       "      <th>...</th>\n",
       "      <td>...</td>\n",
       "      <td>...</td>\n",
       "      <td>...</td>\n",
       "      <td>...</td>\n",
       "      <td>...</td>\n",
       "      <td>...</td>\n",
       "      <td>...</td>\n",
       "      <td>...</td>\n",
       "      <td>...</td>\n",
       "      <td>...</td>\n",
       "      <td>...</td>\n",
       "      <td>...</td>\n",
       "      <td>...</td>\n",
       "      <td>...</td>\n",
       "      <td>...</td>\n",
       "      <td>...</td>\n",
       "      <td>...</td>\n",
       "      <td>...</td>\n",
       "      <td>...</td>\n",
       "      <td>...</td>\n",
       "      <td>...</td>\n",
       "    </tr>\n",
       "    <tr>\n",
       "      <th>24440</th>\n",
       "      <td>False</td>\n",
       "      <td>False</td>\n",
       "      <td>False</td>\n",
       "      <td>False</td>\n",
       "      <td>False</td>\n",
       "      <td>False</td>\n",
       "      <td>False</td>\n",
       "      <td>False</td>\n",
       "      <td>False</td>\n",
       "      <td>False</td>\n",
       "      <td>...</td>\n",
       "      <td>False</td>\n",
       "      <td>False</td>\n",
       "      <td>False</td>\n",
       "      <td>False</td>\n",
       "      <td>False</td>\n",
       "      <td>False</td>\n",
       "      <td>False</td>\n",
       "      <td>False</td>\n",
       "      <td>False</td>\n",
       "      <td>False</td>\n",
       "    </tr>\n",
       "    <tr>\n",
       "      <th>24441</th>\n",
       "      <td>False</td>\n",
       "      <td>False</td>\n",
       "      <td>False</td>\n",
       "      <td>False</td>\n",
       "      <td>False</td>\n",
       "      <td>False</td>\n",
       "      <td>False</td>\n",
       "      <td>False</td>\n",
       "      <td>False</td>\n",
       "      <td>False</td>\n",
       "      <td>...</td>\n",
       "      <td>False</td>\n",
       "      <td>False</td>\n",
       "      <td>False</td>\n",
       "      <td>False</td>\n",
       "      <td>False</td>\n",
       "      <td>False</td>\n",
       "      <td>False</td>\n",
       "      <td>False</td>\n",
       "      <td>False</td>\n",
       "      <td>False</td>\n",
       "    </tr>\n",
       "    <tr>\n",
       "      <th>24442</th>\n",
       "      <td>False</td>\n",
       "      <td>False</td>\n",
       "      <td>False</td>\n",
       "      <td>False</td>\n",
       "      <td>False</td>\n",
       "      <td>False</td>\n",
       "      <td>False</td>\n",
       "      <td>False</td>\n",
       "      <td>False</td>\n",
       "      <td>False</td>\n",
       "      <td>...</td>\n",
       "      <td>False</td>\n",
       "      <td>False</td>\n",
       "      <td>False</td>\n",
       "      <td>False</td>\n",
       "      <td>False</td>\n",
       "      <td>False</td>\n",
       "      <td>False</td>\n",
       "      <td>False</td>\n",
       "      <td>False</td>\n",
       "      <td>False</td>\n",
       "    </tr>\n",
       "    <tr>\n",
       "      <th>24443</th>\n",
       "      <td>False</td>\n",
       "      <td>False</td>\n",
       "      <td>False</td>\n",
       "      <td>False</td>\n",
       "      <td>False</td>\n",
       "      <td>False</td>\n",
       "      <td>False</td>\n",
       "      <td>False</td>\n",
       "      <td>False</td>\n",
       "      <td>False</td>\n",
       "      <td>...</td>\n",
       "      <td>False</td>\n",
       "      <td>False</td>\n",
       "      <td>False</td>\n",
       "      <td>False</td>\n",
       "      <td>False</td>\n",
       "      <td>False</td>\n",
       "      <td>False</td>\n",
       "      <td>False</td>\n",
       "      <td>False</td>\n",
       "      <td>False</td>\n",
       "    </tr>\n",
       "    <tr>\n",
       "      <th>24444</th>\n",
       "      <td>False</td>\n",
       "      <td>False</td>\n",
       "      <td>False</td>\n",
       "      <td>False</td>\n",
       "      <td>False</td>\n",
       "      <td>False</td>\n",
       "      <td>False</td>\n",
       "      <td>False</td>\n",
       "      <td>False</td>\n",
       "      <td>False</td>\n",
       "      <td>...</td>\n",
       "      <td>False</td>\n",
       "      <td>False</td>\n",
       "      <td>False</td>\n",
       "      <td>False</td>\n",
       "      <td>False</td>\n",
       "      <td>False</td>\n",
       "      <td>False</td>\n",
       "      <td>False</td>\n",
       "      <td>False</td>\n",
       "      <td>False</td>\n",
       "    </tr>\n",
       "  </tbody>\n",
       "</table>\n",
       "<p>24445 rows × 4210 columns</p>\n",
       "</div>"
      ],
      "text/plain": [
       "       *Boombox Ipod Classic  *USB Office Mirror Ball  10 COLOUR SPACEBOY PEN  \\\n",
       "0                      False                    False                   False   \n",
       "1                      False                    False                   False   \n",
       "2                      False                    False                   False   \n",
       "3                      False                    False                   False   \n",
       "4                      False                    False                   False   \n",
       "...                      ...                      ...                     ...   \n",
       "24440                  False                    False                   False   \n",
       "24441                  False                    False                   False   \n",
       "24442                  False                    False                   False   \n",
       "24443                  False                    False                   False   \n",
       "24444                  False                    False                   False   \n",
       "\n",
       "       12 COLOURED PARTY BALLOONS  12 DAISY PEGS IN WOOD BOX  \\\n",
       "0                           False                      False   \n",
       "1                           False                      False   \n",
       "2                           False                      False   \n",
       "3                           False                      False   \n",
       "4                           False                      False   \n",
       "...                           ...                        ...   \n",
       "24440                       False                      False   \n",
       "24441                       False                      False   \n",
       "24442                       False                      False   \n",
       "24443                       False                      False   \n",
       "24444                       False                      False   \n",
       "\n",
       "       12 EGG HOUSE PAINTED WOOD  12 HANGING EGGS HAND PAINTED  \\\n",
       "0                          False                         False   \n",
       "1                          False                         False   \n",
       "2                          False                         False   \n",
       "3                          False                         False   \n",
       "4                          False                         False   \n",
       "...                          ...                           ...   \n",
       "24440                      False                         False   \n",
       "24441                      False                         False   \n",
       "24442                      False                         False   \n",
       "24443                      False                         False   \n",
       "24444                      False                         False   \n",
       "\n",
       "       12 IVORY ROSE PEG PLACE SETTINGS  12 MESSAGE CARDS WITH ENVELOPES  \\\n",
       "0                                 False                            False   \n",
       "1                                 False                            False   \n",
       "2                                 False                            False   \n",
       "3                                 False                            False   \n",
       "4                                 False                            False   \n",
       "...                                 ...                              ...   \n",
       "24440                             False                            False   \n",
       "24441                             False                            False   \n",
       "24442                             False                            False   \n",
       "24443                             False                            False   \n",
       "24444                             False                            False   \n",
       "\n",
       "       12 PENCIL SMALL TUBE WOODLAND  ...  wrongly coded 20713  \\\n",
       "0                              False  ...                False   \n",
       "1                              False  ...                False   \n",
       "2                              False  ...                False   \n",
       "3                              False  ...                False   \n",
       "4                              False  ...                False   \n",
       "...                              ...  ...                  ...   \n",
       "24440                          False  ...                False   \n",
       "24441                          False  ...                False   \n",
       "24442                          False  ...                False   \n",
       "24443                          False  ...                False   \n",
       "24444                          False  ...                False   \n",
       "\n",
       "       wrongly coded 23343  wrongly coded-23343  wrongly marked  \\\n",
       "0                    False                False           False   \n",
       "1                    False                False           False   \n",
       "2                    False                False           False   \n",
       "3                    False                False           False   \n",
       "4                    False                False           False   \n",
       "...                    ...                  ...             ...   \n",
       "24440                False                False           False   \n",
       "24441                False                False           False   \n",
       "24442                False                False           False   \n",
       "24443                False                False           False   \n",
       "24444                False                False           False   \n",
       "\n",
       "       wrongly marked 23343  wrongly marked carton 22804  \\\n",
       "0                     False                        False   \n",
       "1                     False                        False   \n",
       "2                     False                        False   \n",
       "3                     False                        False   \n",
       "4                     False                        False   \n",
       "...                     ...                          ...   \n",
       "24440                 False                        False   \n",
       "24441                 False                        False   \n",
       "24442                 False                        False   \n",
       "24443                 False                        False   \n",
       "24444                 False                        False   \n",
       "\n",
       "       wrongly marked. 23343 in box  wrongly sold (22719) barcode  \\\n",
       "0                             False                         False   \n",
       "1                             False                         False   \n",
       "2                             False                         False   \n",
       "3                             False                         False   \n",
       "4                             False                         False   \n",
       "...                             ...                           ...   \n",
       "24440                         False                         False   \n",
       "24441                         False                         False   \n",
       "24442                         False                         False   \n",
       "24443                         False                         False   \n",
       "24444                         False                         False   \n",
       "\n",
       "       wrongly sold as sets  wrongly sold sets  \n",
       "0                     False              False  \n",
       "1                     False              False  \n",
       "2                     False              False  \n",
       "3                     False              False  \n",
       "4                     False              False  \n",
       "...                     ...                ...  \n",
       "24440                 False              False  \n",
       "24441                 False              False  \n",
       "24442                 False              False  \n",
       "24443                 False              False  \n",
       "24444                 False              False  \n",
       "\n",
       "[24445 rows x 4210 columns]"
      ]
     },
     "execution_count": 21,
     "metadata": {},
     "output_type": "execute_result"
    }
   ],
   "source": [
    "from mlxtend.preprocessing import TransactionEncoder\n",
    "import pandas as pd\n",
    "\n",
    "# Instantiate an encoder.\n",
    "encoder = TransactionEncoder()\n",
    "\n",
    "# Fit encoder to list of lists.\n",
    "encoder.fit(data_new['Description'])\n",
    "\n",
    "# Transform lists into one-hot encoded array.\n",
    "onehot = encoder.transform(data_new['Description'])\n",
    "\n",
    "# Convert array to pandas DataFrame.\n",
    "onehot = pd.DataFrame(onehot, columns=encoder.columns_)\n",
    "onehot"
   ]
  },
  {
   "cell_type": "code",
   "execution_count": 22,
   "metadata": {},
   "outputs": [
    {
     "data": {
      "text/html": [
       "<div>\n",
       "<style scoped>\n",
       "    .dataframe tbody tr th:only-of-type {\n",
       "        vertical-align: middle;\n",
       "    }\n",
       "\n",
       "    .dataframe tbody tr th {\n",
       "        vertical-align: top;\n",
       "    }\n",
       "\n",
       "    .dataframe thead th {\n",
       "        text-align: right;\n",
       "    }\n",
       "</style>\n",
       "<table border=\"1\" class=\"dataframe\">\n",
       "  <thead>\n",
       "    <tr style=\"text-align: right;\">\n",
       "      <th></th>\n",
       "      <th>*Boombox Ipod Classic</th>\n",
       "      <th>*USB Office Mirror Ball</th>\n",
       "      <th>10 COLOUR SPACEBOY PEN</th>\n",
       "      <th>12 COLOURED PARTY BALLOONS</th>\n",
       "      <th>12 DAISY PEGS IN WOOD BOX</th>\n",
       "      <th>12 EGG HOUSE PAINTED WOOD</th>\n",
       "      <th>12 HANGING EGGS HAND PAINTED</th>\n",
       "      <th>12 IVORY ROSE PEG PLACE SETTINGS</th>\n",
       "      <th>12 MESSAGE CARDS WITH ENVELOPES</th>\n",
       "      <th>12 PENCIL SMALL TUBE WOODLAND</th>\n",
       "      <th>...</th>\n",
       "      <th>wrongly coded 20713</th>\n",
       "      <th>wrongly coded 23343</th>\n",
       "      <th>wrongly coded-23343</th>\n",
       "      <th>wrongly marked</th>\n",
       "      <th>wrongly marked 23343</th>\n",
       "      <th>wrongly marked carton 22804</th>\n",
       "      <th>wrongly marked. 23343 in box</th>\n",
       "      <th>wrongly sold (22719) barcode</th>\n",
       "      <th>wrongly sold as sets</th>\n",
       "      <th>wrongly sold sets</th>\n",
       "    </tr>\n",
       "  </thead>\n",
       "  <tbody>\n",
       "    <tr>\n",
       "      <th>0</th>\n",
       "      <td>False</td>\n",
       "      <td>False</td>\n",
       "      <td>False</td>\n",
       "      <td>False</td>\n",
       "      <td>False</td>\n",
       "      <td>False</td>\n",
       "      <td>False</td>\n",
       "      <td>False</td>\n",
       "      <td>False</td>\n",
       "      <td>False</td>\n",
       "      <td>...</td>\n",
       "      <td>False</td>\n",
       "      <td>False</td>\n",
       "      <td>False</td>\n",
       "      <td>False</td>\n",
       "      <td>False</td>\n",
       "      <td>False</td>\n",
       "      <td>False</td>\n",
       "      <td>False</td>\n",
       "      <td>False</td>\n",
       "      <td>False</td>\n",
       "    </tr>\n",
       "    <tr>\n",
       "      <th>1</th>\n",
       "      <td>False</td>\n",
       "      <td>False</td>\n",
       "      <td>False</td>\n",
       "      <td>False</td>\n",
       "      <td>False</td>\n",
       "      <td>False</td>\n",
       "      <td>False</td>\n",
       "      <td>False</td>\n",
       "      <td>False</td>\n",
       "      <td>False</td>\n",
       "      <td>...</td>\n",
       "      <td>False</td>\n",
       "      <td>False</td>\n",
       "      <td>False</td>\n",
       "      <td>False</td>\n",
       "      <td>False</td>\n",
       "      <td>False</td>\n",
       "      <td>False</td>\n",
       "      <td>False</td>\n",
       "      <td>False</td>\n",
       "      <td>False</td>\n",
       "    </tr>\n",
       "    <tr>\n",
       "      <th>2</th>\n",
       "      <td>False</td>\n",
       "      <td>False</td>\n",
       "      <td>False</td>\n",
       "      <td>False</td>\n",
       "      <td>False</td>\n",
       "      <td>False</td>\n",
       "      <td>False</td>\n",
       "      <td>False</td>\n",
       "      <td>False</td>\n",
       "      <td>False</td>\n",
       "      <td>...</td>\n",
       "      <td>False</td>\n",
       "      <td>False</td>\n",
       "      <td>False</td>\n",
       "      <td>False</td>\n",
       "      <td>False</td>\n",
       "      <td>False</td>\n",
       "      <td>False</td>\n",
       "      <td>False</td>\n",
       "      <td>False</td>\n",
       "      <td>False</td>\n",
       "    </tr>\n",
       "    <tr>\n",
       "      <th>3</th>\n",
       "      <td>False</td>\n",
       "      <td>False</td>\n",
       "      <td>False</td>\n",
       "      <td>False</td>\n",
       "      <td>False</td>\n",
       "      <td>False</td>\n",
       "      <td>False</td>\n",
       "      <td>False</td>\n",
       "      <td>False</td>\n",
       "      <td>False</td>\n",
       "      <td>...</td>\n",
       "      <td>False</td>\n",
       "      <td>False</td>\n",
       "      <td>False</td>\n",
       "      <td>False</td>\n",
       "      <td>False</td>\n",
       "      <td>False</td>\n",
       "      <td>False</td>\n",
       "      <td>False</td>\n",
       "      <td>False</td>\n",
       "      <td>False</td>\n",
       "    </tr>\n",
       "    <tr>\n",
       "      <th>4</th>\n",
       "      <td>False</td>\n",
       "      <td>False</td>\n",
       "      <td>False</td>\n",
       "      <td>False</td>\n",
       "      <td>False</td>\n",
       "      <td>False</td>\n",
       "      <td>False</td>\n",
       "      <td>False</td>\n",
       "      <td>False</td>\n",
       "      <td>False</td>\n",
       "      <td>...</td>\n",
       "      <td>False</td>\n",
       "      <td>False</td>\n",
       "      <td>False</td>\n",
       "      <td>False</td>\n",
       "      <td>False</td>\n",
       "      <td>False</td>\n",
       "      <td>False</td>\n",
       "      <td>False</td>\n",
       "      <td>False</td>\n",
       "      <td>False</td>\n",
       "    </tr>\n",
       "  </tbody>\n",
       "</table>\n",
       "<p>5 rows × 4210 columns</p>\n",
       "</div>"
      ],
      "text/plain": [
       "   *Boombox Ipod Classic  *USB Office Mirror Ball  10 COLOUR SPACEBOY PEN  \\\n",
       "0                  False                    False                   False   \n",
       "1                  False                    False                   False   \n",
       "2                  False                    False                   False   \n",
       "3                  False                    False                   False   \n",
       "4                  False                    False                   False   \n",
       "\n",
       "   12 COLOURED PARTY BALLOONS  12 DAISY PEGS IN WOOD BOX  \\\n",
       "0                       False                      False   \n",
       "1                       False                      False   \n",
       "2                       False                      False   \n",
       "3                       False                      False   \n",
       "4                       False                      False   \n",
       "\n",
       "   12 EGG HOUSE PAINTED WOOD  12 HANGING EGGS HAND PAINTED  \\\n",
       "0                      False                         False   \n",
       "1                      False                         False   \n",
       "2                      False                         False   \n",
       "3                      False                         False   \n",
       "4                      False                         False   \n",
       "\n",
       "   12 IVORY ROSE PEG PLACE SETTINGS  12 MESSAGE CARDS WITH ENVELOPES  \\\n",
       "0                             False                            False   \n",
       "1                             False                            False   \n",
       "2                             False                            False   \n",
       "3                             False                            False   \n",
       "4                             False                            False   \n",
       "\n",
       "   12 PENCIL SMALL TUBE WOODLAND  ...  wrongly coded 20713  \\\n",
       "0                          False  ...                False   \n",
       "1                          False  ...                False   \n",
       "2                          False  ...                False   \n",
       "3                          False  ...                False   \n",
       "4                          False  ...                False   \n",
       "\n",
       "   wrongly coded 23343  wrongly coded-23343  wrongly marked  \\\n",
       "0                False                False           False   \n",
       "1                False                False           False   \n",
       "2                False                False           False   \n",
       "3                False                False           False   \n",
       "4                False                False           False   \n",
       "\n",
       "   wrongly marked 23343  wrongly marked carton 22804  \\\n",
       "0                 False                        False   \n",
       "1                 False                        False   \n",
       "2                 False                        False   \n",
       "3                 False                        False   \n",
       "4                 False                        False   \n",
       "\n",
       "   wrongly marked. 23343 in box  wrongly sold (22719) barcode  \\\n",
       "0                         False                         False   \n",
       "1                         False                         False   \n",
       "2                         False                         False   \n",
       "3                         False                         False   \n",
       "4                         False                         False   \n",
       "\n",
       "   wrongly sold as sets  wrongly sold sets  \n",
       "0                 False              False  \n",
       "1                 False              False  \n",
       "2                 False              False  \n",
       "3                 False              False  \n",
       "4                 False              False  \n",
       "\n",
       "[5 rows x 4210 columns]"
      ]
     },
     "execution_count": 22,
     "metadata": {},
     "output_type": "execute_result"
    }
   ],
   "source": [
    "onehot.head()"
   ]
  },
  {
   "cell_type": "markdown",
   "metadata": {},
   "source": [
    "**Step 10** Compute the support metric"
   ]
  },
  {
   "cell_type": "code",
   "execution_count": 23,
   "metadata": {},
   "outputs": [
    {
     "name": "stdout",
     "output_type": "stream",
     "text": [
      "*Boombox Ipod Classic           0.000041\n",
      "*USB Office Mirror Ball         0.000082\n",
      "10 COLOUR SPACEBOY PEN          0.013336\n",
      "12 COLOURED PARTY BALLOONS      0.006709\n",
      "12 DAISY PEGS IN WOOD BOX       0.003150\n",
      "                                  ...   \n",
      "wrongly marked carton 22804     0.000041\n",
      "wrongly marked. 23343 in box    0.000041\n",
      "wrongly sold (22719) barcode    0.000041\n",
      "wrongly sold as sets            0.000041\n",
      "wrongly sold sets               0.000041\n",
      "Length: 4210, dtype: float64\n"
     ]
    }
   ],
   "source": [
    "support_metric = onehot.mean()\n",
    "print(support_metric)\n"
   ]
  },
  {
   "cell_type": "markdown",
   "metadata": {},
   "source": [
    "**Step 11** Compute the item count distribution over transactions"
   ]
  },
  {
   "cell_type": "code",
   "execution_count": 24,
   "metadata": {},
   "outputs": [
    {
     "name": "stdout",
     "output_type": "stream",
     "text": [
      "1      4439\n",
      "2      1590\n",
      "3      1080\n",
      "4       812\n",
      "5       791\n",
      "       ... \n",
      "358       1\n",
      "315       1\n",
      "344       1\n",
      "320       1\n",
      "731       1\n",
      "Name: count, Length: 369, dtype: int64\n"
     ]
    }
   ],
   "source": [
    "item_counts = onehot.sum(axis=1)\n",
    "print(item_counts.value_counts())\n"
   ]
  },
  {
   "cell_type": "markdown",
   "metadata": {},
   "source": [
    "**Step 12** what you remark ?"
   ]
  },
  {
   "cell_type": "markdown",
   "metadata": {},
   "source": [
    "Confidence are different"
   ]
  },
  {
   "cell_type": "markdown",
   "metadata": {},
   "source": [
    "**Step 13** Compute joint support for COLOURED PARTY BALLOONS and MESSAGE CARDS WITH ENVELOPES."
   ]
  },
  {
   "cell_type": "code",
   "execution_count": 25,
   "metadata": {},
   "outputs": [
    {
     "name": "stdout",
     "output_type": "stream",
     "text": [
      "0.00040908161178155044\n"
     ]
    }
   ],
   "source": [
    "joint_support = (onehot['12 COLOURED PARTY BALLOONS'] & onehot['12 MESSAGE CARDS WITH ENVELOPES']).mean()\n",
    "print(joint_support)"
   ]
  },
  {
   "cell_type": "markdown",
   "metadata": {},
   "source": [
    "**Step 14** Print confidence metric for 12 COLOURED PARTY BALLOONS --> 12 MESSAGE CARDS WITH ENVELOPES."
   ]
  },
  {
   "cell_type": "code",
   "execution_count": 26,
   "metadata": {},
   "outputs": [
    {
     "name": "stdout",
     "output_type": "stream",
     "text": [
      "0.06097560975609757\n"
     ]
    }
   ],
   "source": [
    "support_party_balloons = onehot['12 COLOURED PARTY BALLOONS'].mean()\n",
    "joint_support = (onehot['12 COLOURED PARTY BALLOONS'] & onehot['12 MESSAGE CARDS WITH ENVELOPES']).mean()\n",
    "confidence_metricB = joint_support / support_party_balloons\n",
    "\n",
    "print(confidence_metricB)"
   ]
  },
  {
   "cell_type": "markdown",
   "metadata": {},
   "source": [
    "**Step 15** Print confidence metric for 12 MESSAGE CARDS WITH ENVELOPES --> 12 COLOURED PARTY BALLOONS."
   ]
  },
  {
   "cell_type": "code",
   "execution_count": 27,
   "metadata": {},
   "outputs": [
    {
     "name": "stdout",
     "output_type": "stream",
     "text": [
      "0.03968253968253968\n"
     ]
    }
   ],
   "source": [
    "support_message_cards = onehot['12 MESSAGE CARDS WITH ENVELOPES'].mean()\n",
    "joint_support = (onehot['12 COLOURED PARTY BALLOONS'] & onehot['12 MESSAGE CARDS WITH ENVELOPES']).mean()\n",
    "confidence_metricM = joint_support / support_message_cards\n",
    "\n",
    "print(confidence_metricM)"
   ]
  },
  {
   "cell_type": "markdown",
   "metadata": {},
   "source": [
    "**Step 16** What can you remark ?"
   ]
  },
  {
   "cell_type": "code",
   "execution_count": null,
   "metadata": {},
   "outputs": [],
   "source": []
  },
  {
   "cell_type": "markdown",
   "metadata": {},
   "source": [
    "**Step 17** Use apriori() to identify frequent itemsets Apply apriori algorithm to data with min support threshold of 0.03"
   ]
  },
  {
   "cell_type": "code",
   "execution_count": 28,
   "metadata": {},
   "outputs": [
    {
     "name": "stdout",
     "output_type": "stream",
     "text": [
      "     support                                           itemsets\n",
      "0   0.039313                           (6 RIBBONS RUSTIC CHARM)\n",
      "1   0.034199                      (60 TEATIME FAIRY CAKE CASES)\n",
      "2   0.040949                       (ALARM CLOCK BAKELIKE GREEN)\n",
      "3   0.032686                        (ALARM CLOCK BAKELIKE PINK)\n",
      "4   0.044222                         (ALARM CLOCK BAKELIKE RED)\n",
      "..       ...                                                ...\n",
      "81  0.040376                       (WOODEN FRAME ANTIQUE WHITE)\n",
      "82  0.045735                (WOODEN PICTURE FRAME WHITE FINISH)\n",
      "83  0.034486                           (WOODLAND CHARLOTTE BAG)\n",
      "84  0.032072  (ROSES REGENCY TEACUP AND SAUCER, GREEN REGENC...\n",
      "85  0.034076  (JUMBO BAG PINK POLKADOT, JUMBO BAG RED RETROS...\n",
      "\n",
      "[86 rows x 2 columns]\n"
     ]
    }
   ],
   "source": [
    "from mlxtend.frequent_patterns import apriori\n",
    "frequent_itemsets = apriori(onehot, min_support=0.03, use_colnames=True)\n",
    "print(frequent_itemsets)"
   ]
  },
  {
   "cell_type": "markdown",
   "metadata": {},
   "source": [
    "**Step 18** Use apriori() to identify frequent itemsets Apply apriori algorithm to data with min support threshold of 0.02"
   ]
  },
  {
   "cell_type": "code",
   "execution_count": 29,
   "metadata": {},
   "outputs": [
    {
     "name": "stdout",
     "output_type": "stream",
     "text": [
      "      support                                           itemsets\n",
      "0    0.039313                           (6 RIBBONS RUSTIC CHARM)\n",
      "1    0.025445                  (60 CAKE CASES VINTAGE CHRISTMAS)\n",
      "2    0.034199                      (60 TEATIME FAIRY CAKE CASES)\n",
      "3    0.025322                   (72 SWEETHEART FAIRY CAKE CASES)\n",
      "4    0.040949                       (ALARM CLOCK BAKELIKE GREEN)\n",
      "..        ...                                                ...\n",
      "237  0.020045  (STRAWBERRY CHARLOTTE BAG, RED RETROSPOT CHARL...\n",
      "238  0.020740  (RED RETROSPOT CHARLOTTE BAG, WOODLAND CHARLOT...\n",
      "239  0.021968  (ROSES REGENCY TEACUP AND SAUCER, REGENCY CAKE...\n",
      "240  0.022295  (WOODEN FRAME ANTIQUE WHITE, WOODEN PICTURE FR...\n",
      "241  0.022459  (ROSES REGENCY TEACUP AND SAUCER, GREEN REGENC...\n",
      "\n",
      "[242 rows x 2 columns]\n"
     ]
    }
   ],
   "source": [
    "frequent_itemsets = apriori(onehot, min_support=0.02, use_colnames=True)\n",
    "print(frequent_itemsets)"
   ]
  },
  {
   "cell_type": "markdown",
   "metadata": {},
   "source": [
    "**Step 19** Use apriori() to identify frequent itemsets Apply apriori algorithm to data with min support threshold of 0.01"
   ]
  },
  {
   "cell_type": "code",
   "execution_count": 30,
   "metadata": {},
   "outputs": [
    {
     "name": "stdout",
     "output_type": "stream",
     "text": [
      "       support                                           itemsets\n",
      "0     0.013336                           (10 COLOUR SPACEBOY PEN)\n",
      "1     0.010309                  (12 MESSAGE CARDS WITH ENVELOPES)\n",
      "2     0.014604                    (12 PENCIL SMALL TUBE WOODLAND)\n",
      "3     0.014972              (12 PENCILS SMALL TUBE RED RETROSPOT)\n",
      "4     0.014645                      (12 PENCILS SMALL TUBE SKULL)\n",
      "...        ...                                                ...\n",
      "1163  0.010104  (CHARLOTTE BAG SUKI DESIGN, STRAWBERRY CHARLOT...\n",
      "1164  0.010309  (CHARLOTTE BAG SUKI DESIGN, RED RETROSPOT CHAR...\n",
      "1165  0.010677  (CHARLOTTE BAG SUKI DESIGN, STRAWBERRY CHARLOT...\n",
      "1166  0.012395  (ROSES REGENCY TEACUP AND SAUCER, GREEN REGENC...\n",
      "1167  0.011004  (JUMBO SHOPPER VINTAGE RED PAISLEY, JUMBO BAG ...\n",
      "\n",
      "[1168 rows x 2 columns]\n"
     ]
    }
   ],
   "source": [
    "frequent_itemsets = apriori(onehot, min_support=0.01, use_colnames=True)\n",
    "print(frequent_itemsets)"
   ]
  },
  {
   "cell_type": "markdown",
   "metadata": {},
   "source": [
    "**Step 20** Use association_rules() to compute and prune association rules from output of apriori().\n",
    "Recover association rules using support and a minimum threshold of 0.01."
   ]
  },
  {
   "cell_type": "code",
   "execution_count": 31,
   "metadata": {},
   "outputs": [
    {
     "name": "stdout",
     "output_type": "stream",
     "text": [
      "Association Rules:\n",
      "                            antecedents                           consequents  \\\n",
      "0              (6 RIBBONS RUSTIC CHARM)  (WHITE HANGING HEART T-LIGHT HOLDER)   \n",
      "1  (WHITE HANGING HEART T-LIGHT HOLDER)              (6 RIBBONS RUSTIC CHARM)   \n",
      "2      (PAPER CHAIN KIT 50'S CHRISTMAS)     (60 CAKE CASES VINTAGE CHRISTMAS)   \n",
      "3     (60 CAKE CASES VINTAGE CHRISTMAS)      (PAPER CHAIN KIT 50'S CHRISTMAS)   \n",
      "4     (60 CAKE CASES VINTAGE CHRISTMAS)   (PAPER CHAIN KIT VINTAGE CHRISTMAS)   \n",
      "\n",
      "   antecedent support  consequent support   support  confidence       lift  \\\n",
      "0            0.039313            0.094171  0.010513    0.267430   2.839844   \n",
      "1            0.094171            0.039313  0.010513    0.111642   2.839844   \n",
      "2            0.047863            0.025445  0.011168    0.233333   9.170150   \n",
      "3            0.025445            0.047863  0.011168    0.438907   9.170150   \n",
      "4            0.025445            0.034036  0.010350    0.406752  11.950797   \n",
      "\n",
      "   leverage  conviction  zhangs_metric  \n",
      "0  0.006811    1.236509       0.674380  \n",
      "1  0.006811    1.081419       0.715221  \n",
      "2  0.009950    1.271159       0.935737  \n",
      "3  0.009950    1.696933       0.914213  \n",
      "4  0.009484    1.628265       0.940248  \n"
     ]
    }
   ],
   "source": [
    "from mlxtend.frequent_patterns import association_rules\n",
    "rules = association_rules(frequent_itemsets, metric=\"support\", min_threshold=0.01)\n",
    "print(\"Association Rules:\")\n",
    "print(rules.head())"
   ]
  },
  {
   "cell_type": "markdown",
   "metadata": {},
   "source": [
    "**step 21** Recover association rules using confidence and a minimum threshold of 0.8."
   ]
  },
  {
   "cell_type": "code",
   "execution_count": 32,
   "metadata": {},
   "outputs": [
    {
     "name": "stdout",
     "output_type": "stream",
     "text": [
      "Association Rules:\n",
      "                                          antecedents  \\\n",
      "0                    (PINK REGENCY TEACUP AND SAUCER)   \n",
      "1                            (REGENCY TEA PLATE PINK)   \n",
      "2                           (REGENCY TEA PLATE GREEN)   \n",
      "3                            (REGENCY TEA PLATE PINK)   \n",
      "4                       (SET/6 RED SPOTTY PAPER CUPS)   \n",
      "5                (WOODEN TREE CHRISTMAS SCANDINAVIAN)   \n",
      "6   (STRAWBERRY CHARLOTTE BAG, CHARLOTTE BAG PINK ...   \n",
      "7   (CHARLOTTE BAG PINK POLKADOT, WOODLAND CHARLOT...   \n",
      "8   (CHARLOTTE BAG SUKI DESIGN, STRAWBERRY CHARLOT...   \n",
      "9           (JUMBO BAG PINK POLKADOT, DOTCOM POSTAGE)   \n",
      "10      (SUKI  SHOULDER BAG, JUMBO BAG RED RETROSPOT)   \n",
      "11  (REGENCY CAKESTAND 3 TIER, PINK REGENCY TEACUP...   \n",
      "12  (ROSES REGENCY TEACUP AND SAUCER, PINK REGENCY...   \n",
      "13  (GREEN REGENCY TEACUP AND SAUCER, PINK REGENCY...   \n",
      "14  (JUMBO BAG PINK POLKADOT, JUMBO BAG SCANDINAVI...   \n",
      "15    (JUMBO BAG PINK POLKADOT, JUMBO BAG STRAWBERRY)   \n",
      "16  (JUMBO SHOPPER VINTAGE RED PAISLEY, JUMBO BAG ...   \n",
      "17  (JUMBO BAG PINK POLKADOT, JUMBO STORAGE BAG SUKI)   \n",
      "18  (REGENCY CAKESTAND 3 TIER, PINK REGENCY TEACUP...   \n",
      "19  (STRAWBERRY CHARLOTTE BAG, WOODLAND CHARLOTTE ...   \n",
      "20  (REGENCY TEA PLATE ROSES, REGENCY TEA PLATE PINK)   \n",
      "21  (REGENCY TEA PLATE ROSES, REGENCY TEA PLATE GR...   \n",
      "22  (REGENCY TEA PLATE PINK, REGENCY TEA PLATE GREEN)   \n",
      "23                           (REGENCY TEA PLATE PINK)   \n",
      "24  (SET/6 RED SPOTTY PAPER CUPS, SET/20 RED RETRO...   \n",
      "25  (CHARLOTTE BAG SUKI DESIGN, STRAWBERRY CHARLOT...   \n",
      "26  (CHARLOTTE BAG SUKI DESIGN, CHARLOTTE BAG PINK...   \n",
      "27  (CHARLOTTE BAG SUKI DESIGN, STRAWBERRY CHARLOT...   \n",
      "28  (ROSES REGENCY TEACUP AND SAUCER, REGENCY CAKE...   \n",
      "29  (REGENCY CAKESTAND 3 TIER, GREEN REGENCY TEACU...   \n",
      "30  (JUMBO SHOPPER VINTAGE RED PAISLEY, JUMBO BAG ...   \n",
      "\n",
      "                                          consequents  antecedent support  \\\n",
      "0                   (GREEN REGENCY TEACUP AND SAUCER)            0.032767   \n",
      "1                           (REGENCY TEA PLATE GREEN)            0.012845   \n",
      "2                           (REGENCY TEA PLATE ROSES)            0.015791   \n",
      "3                           (REGENCY TEA PLATE ROSES)            0.012845   \n",
      "4                     (SET/6 RED SPOTTY PAPER PLATES)            0.017509   \n",
      "5                (WOODEN STAR CHRISTMAS SCANDINAVIAN)            0.013868   \n",
      "6                       (RED RETROSPOT CHARLOTTE BAG)            0.015627   \n",
      "7                       (RED RETROSPOT CHARLOTTE BAG)            0.016241   \n",
      "8                       (RED RETROSPOT CHARLOTTE BAG)            0.017100   \n",
      "9                           (JUMBO BAG RED RETROSPOT)            0.014113   \n",
      "10                                   (DOTCOM POSTAGE)            0.011536   \n",
      "11                  (GREEN REGENCY TEACUP AND SAUCER)            0.016445   \n",
      "12                  (GREEN REGENCY TEACUP AND SAUCER)            0.025118   \n",
      "13                  (ROSES REGENCY TEACUP AND SAUCER)            0.026345   \n",
      "14                          (JUMBO BAG RED RETROSPOT)            0.013091   \n",
      "15                          (JUMBO BAG RED RETROSPOT)            0.014277   \n",
      "16                          (JUMBO BAG RED RETROSPOT)            0.019309   \n",
      "17                          (JUMBO BAG RED RETROSPOT)            0.021190   \n",
      "18                  (ROSES REGENCY TEACUP AND SAUCER)            0.016445   \n",
      "19                      (RED RETROSPOT CHARLOTTE BAG)            0.016691   \n",
      "20                          (REGENCY TEA PLATE GREEN)            0.011127   \n",
      "21                           (REGENCY TEA PLATE PINK)            0.013172   \n",
      "22                          (REGENCY TEA PLATE ROSES)            0.011536   \n",
      "23  (REGENCY TEA PLATE ROSES, REGENCY TEA PLATE GR...            0.012845   \n",
      "24                    (SET/6 RED SPOTTY PAPER PLATES)            0.012109   \n",
      "25                      (RED RETROSPOT CHARLOTTE BAG)            0.011168   \n",
      "26                      (RED RETROSPOT CHARLOTTE BAG)            0.012027   \n",
      "27                      (RED RETROSPOT CHARLOTTE BAG)            0.012436   \n",
      "28                  (GREEN REGENCY TEACUP AND SAUCER)            0.013786   \n",
      "29                  (ROSES REGENCY TEACUP AND SAUCER)            0.014154   \n",
      "30                          (JUMBO BAG RED RETROSPOT)            0.012682   \n",
      "\n",
      "    consequent support   support  confidence       lift  leverage  conviction  \\\n",
      "0             0.043240  0.026345    0.803995  18.593811  0.024928    4.881305   \n",
      "1             0.015791  0.011536    0.898089  56.875103  0.011333    9.657555   \n",
      "2             0.018695  0.013172    0.834197  44.621319  0.012877    5.918496   \n",
      "3             0.018695  0.011127    0.866242  46.335419  0.010887    7.336423   \n",
      "4             0.021559  0.014318    0.817757  37.931822  0.013940    5.368884   \n",
      "5             0.021068  0.011536    0.831858  39.485007  0.011244    5.822071   \n",
      "6             0.042954  0.013418    0.858639  19.989928  0.012747    6.770217   \n",
      "7             0.042954  0.013336    0.821159  19.117356  0.012638    5.351372   \n",
      "8             0.042954  0.013745    0.803828  18.713876  0.013011    4.878603   \n",
      "9             0.087339  0.011332    0.802899   9.192906  0.010099    4.630413   \n",
      "10            0.029004  0.010186    0.882979  30.443462  0.009852    8.297603   \n",
      "11            0.043240  0.014154    0.860697  19.905134  0.013443    6.868171   \n",
      "12            0.043240  0.022459    0.894137  20.678500  0.021372    9.037703   \n",
      "13            0.045817  0.022459    0.852484  18.606235  0.021252    6.468355   \n",
      "14            0.087339  0.011004    0.840625   9.624861  0.009861    5.726501   \n",
      "15            0.087339  0.011454    0.802292   9.185965  0.010207    4.616213   \n",
      "16            0.087339  0.015545    0.805085   9.217938  0.013859    4.682348   \n",
      "17            0.087339  0.017018    0.803089   9.195085  0.015167    4.634887   \n",
      "18            0.045817  0.013786    0.838308  18.296831  0.013033    5.901254   \n",
      "19            0.042954  0.013418    0.803922  18.716060  0.012701    4.880937   \n",
      "20            0.015791  0.010554    0.948529  60.069434  0.010379   19.121784   \n",
      "21            0.012845  0.010554    0.801242  62.376963  0.010385    4.966623   \n",
      "22            0.018695  0.010554    0.914894  48.937800  0.010339   11.530333   \n",
      "23            0.013172  0.010554    0.821656  62.376963  0.010385    5.533283   \n",
      "24            0.021559  0.010841    0.895270  41.527290  0.010580    9.342537   \n",
      "25            0.042954  0.010104    0.904762  21.063719  0.009625   10.048988   \n",
      "26            0.042954  0.010309    0.857143  19.955102  0.009792    6.699325   \n",
      "27            0.042954  0.010677    0.858553  19.987923  0.010143    6.766096   \n",
      "28            0.043240  0.012395    0.899110  20.793509  0.011799    9.483181   \n",
      "29            0.045817  0.012395    0.875723  19.113426  0.011747    7.677843   \n",
      "30            0.087339  0.011004    0.867742   9.935340  0.009897    6.900608   \n",
      "\n",
      "    zhangs_metric  \n",
      "0        0.978274  \n",
      "1        0.995201  \n",
      "2        0.993274  \n",
      "3        0.991150  \n",
      "4        0.990988  \n",
      "5        0.988381  \n",
      "6        0.965056  \n",
      "7        0.963337  \n",
      "8        0.963031  \n",
      "9        0.903979  \n",
      "10       0.978440  \n",
      "11       0.965642  \n",
      "12       0.976159  \n",
      "13       0.971858  \n",
      "14       0.907989  \n",
      "15       0.904045  \n",
      "16       0.909069  \n",
      "17       0.910541  \n",
      "18       0.961152  \n",
      "19       0.962637  \n",
      "20       0.994418  \n",
      "21       0.997103  \n",
      "22       0.990998  \n",
      "23       0.996772  \n",
      "24       0.987882  \n",
      "25       0.963283  \n",
      "26       0.961451  \n",
      "27       0.961932  \n",
      "28       0.965215  \n",
      "29       0.961287  \n",
      "30       0.910901  \n"
     ]
    }
   ],
   "source": [
    "rules = association_rules(frequent_itemsets, metric=\"confidence\", min_threshold=0.8)\n",
    "print(\"Association Rules:\")\n",
    "print(rules)"
   ]
  },
  {
   "cell_type": "markdown",
   "metadata": {},
   "source": [
    "**Step 22** Select rules with a consequent support above 0.08."
   ]
  },
  {
   "cell_type": "code",
   "execution_count": 33,
   "metadata": {},
   "outputs": [
    {
     "name": "stdout",
     "output_type": "stream",
     "text": [
      "Association Rules:\n",
      "                                            antecedents  \\\n",
      "0                              (6 RIBBONS RUSTIC CHARM)   \n",
      "1                  (WHITE HANGING HEART T-LIGHT HOLDER)   \n",
      "2                      (PAPER CHAIN KIT 50'S CHRISTMAS)   \n",
      "3                     (60 CAKE CASES VINTAGE CHRISTMAS)   \n",
      "4                     (60 CAKE CASES VINTAGE CHRISTMAS)   \n",
      "...                                                 ...   \n",
      "1469  (JUMBO BAG RED RETROSPOT, JUMBO STORAGE BAG SUKI)   \n",
      "1470                (JUMBO SHOPPER VINTAGE RED PAISLEY)   \n",
      "1471                          (JUMBO BAG PINK POLKADOT)   \n",
      "1472                          (JUMBO BAG RED RETROSPOT)   \n",
      "1473                           (JUMBO STORAGE BAG SUKI)   \n",
      "\n",
      "                                            consequents  antecedent support  \\\n",
      "0                  (WHITE HANGING HEART T-LIGHT HOLDER)            0.039313   \n",
      "1                              (6 RIBBONS RUSTIC CHARM)            0.094171   \n",
      "2                     (60 CAKE CASES VINTAGE CHRISTMAS)            0.047863   \n",
      "3                      (PAPER CHAIN KIT 50'S CHRISTMAS)            0.025445   \n",
      "4                   (PAPER CHAIN KIT VINTAGE CHRISTMAS)            0.025445   \n",
      "...                                                 ...                 ...   \n",
      "1469  (JUMBO SHOPPER VINTAGE RED PAISLEY, JUMBO BAG ...            0.029986   \n",
      "1470  (JUMBO BAG PINK POLKADOT, JUMBO BAG RED RETROS...            0.048558   \n",
      "1471  (JUMBO SHOPPER VINTAGE RED PAISLEY, JUMBO BAG ...            0.050358   \n",
      "1472  (JUMBO SHOPPER VINTAGE RED PAISLEY, JUMBO BAG ...            0.087339   \n",
      "1473  (JUMBO SHOPPER VINTAGE RED PAISLEY, JUMBO BAG ...            0.049131   \n",
      "\n",
      "      consequent support   support  confidence       lift  leverage  \\\n",
      "0               0.094171  0.010513    0.267430   2.839844  0.006811   \n",
      "1               0.039313  0.010513    0.111642   2.839844  0.006811   \n",
      "2               0.025445  0.011168    0.233333   9.170150  0.009950   \n",
      "3               0.047863  0.011168    0.438907   9.170150  0.009950   \n",
      "4               0.034036  0.010350    0.406752  11.950797  0.009484   \n",
      "...                  ...       ...         ...        ...       ...   \n",
      "1469            0.019309  0.011004    0.366985  19.006246  0.010425   \n",
      "1470            0.017018  0.011004    0.226622  13.316751  0.010178   \n",
      "1471            0.015995  0.011004    0.218522  13.661787  0.010199   \n",
      "1472            0.012682  0.011004    0.125995   9.935340  0.009897   \n",
      "1473            0.015545  0.011004    0.223980  14.408399  0.010241   \n",
      "\n",
      "      conviction  zhangs_metric  \n",
      "0       1.236509       0.674380  \n",
      "1       1.081419       0.715221  \n",
      "2       1.271159       0.935737  \n",
      "3       1.696933       0.914213  \n",
      "4       1.628265       0.940248  \n",
      "...          ...            ...  \n",
      "1469    1.549239       0.976672  \n",
      "1470    1.271024       0.972110  \n",
      "1471    1.259158       0.975950  \n",
      "1472    1.129649       0.985414  \n",
      "1473    1.268595       0.978679  \n",
      "\n",
      "[1474 rows x 10 columns]\n"
     ]
    }
   ],
   "source": [
    "rules = association_rules(frequent_itemsets, metric=\"confidence\", min_threshold=0.08)\n",
    "print(\"Association Rules:\")\n",
    "print(rules)"
   ]
  },
  {
   "cell_type": "markdown",
   "metadata": {},
   "source": [
    "**Step 23** Select rules with leverage higher than 0.01."
   ]
  },
  {
   "cell_type": "code",
   "execution_count": 34,
   "metadata": {},
   "outputs": [
    {
     "name": "stdout",
     "output_type": "stream",
     "text": [
      "Selected Rules with Leverage > 0.01:\n",
      "                                            antecedents  \\\n",
      "6                     (60 CAKE CASES VINTAGE CHRISTMAS)   \n",
      "7                 (SET OF 20 VINTAGE CHRISTMAS NAPKINS)   \n",
      "8                      (72 SWEETHEART FAIRY CAKE CASES)   \n",
      "9                         (60 TEATIME FAIRY CAKE CASES)   \n",
      "12                        (60 TEATIME FAIRY CAKE CASES)   \n",
      "...                                                 ...   \n",
      "1468  (JUMBO BAG PINK POLKADOT, JUMBO STORAGE BAG SUKI)   \n",
      "1469  (JUMBO BAG RED RETROSPOT, JUMBO STORAGE BAG SUKI)   \n",
      "1470                (JUMBO SHOPPER VINTAGE RED PAISLEY)   \n",
      "1471                          (JUMBO BAG PINK POLKADOT)   \n",
      "1473                           (JUMBO STORAGE BAG SUKI)   \n",
      "\n",
      "                                            consequents  antecedent support  \\\n",
      "6                 (SET OF 20 VINTAGE CHRISTMAS NAPKINS)            0.025445   \n",
      "7                     (60 CAKE CASES VINTAGE CHRISTMAS)            0.025240   \n",
      "8                         (60 TEATIME FAIRY CAKE CASES)            0.025322   \n",
      "9                      (72 SWEETHEART FAIRY CAKE CASES)            0.034199   \n",
      "12                 (PACK OF 60 PINK PAISLEY CAKE CASES)            0.034199   \n",
      "...                                                 ...                 ...   \n",
      "1468  (JUMBO SHOPPER VINTAGE RED PAISLEY, JUMBO BAG ...            0.021190   \n",
      "1469  (JUMBO SHOPPER VINTAGE RED PAISLEY, JUMBO BAG ...            0.029986   \n",
      "1470  (JUMBO BAG PINK POLKADOT, JUMBO BAG RED RETROS...            0.048558   \n",
      "1471  (JUMBO SHOPPER VINTAGE RED PAISLEY, JUMBO BAG ...            0.050358   \n",
      "1473  (JUMBO SHOPPER VINTAGE RED PAISLEY, JUMBO BAG ...            0.049131   \n",
      "\n",
      "      consequent support   support  confidence       lift  leverage  \\\n",
      "6               0.025240  0.011168    0.438907  17.389101  0.010526   \n",
      "7               0.025445  0.011168    0.442464  17.389101  0.010526   \n",
      "8               0.034199  0.011372    0.449111  13.132213  0.010506   \n",
      "9               0.025322  0.011372    0.332536  13.132213  0.010506   \n",
      "12              0.035795  0.014481    0.423445  11.829843  0.013257   \n",
      "...                  ...       ...         ...        ...       ...   \n",
      "1468            0.027940  0.011004    0.519305  18.586254  0.010412   \n",
      "1469            0.019309  0.011004    0.366985  19.006246  0.010425   \n",
      "1470            0.017018  0.011004    0.226622  13.316751  0.010178   \n",
      "1471            0.015995  0.011004    0.218522  13.661787  0.010199   \n",
      "1473            0.015545  0.011004    0.223980  14.408399  0.010241   \n",
      "\n",
      "      conviction  zhangs_metric  \n",
      "6       1.737251       0.967100  \n",
      "7       1.747967       0.966898  \n",
      "8       1.753169       0.947853  \n",
      "9       1.460270       0.956565  \n",
      "12      1.672356       0.947885  \n",
      "...          ...            ...  \n",
      "1468    2.022197       0.966681  \n",
      "1469    1.549239       0.976672  \n",
      "1470    1.271024       0.972110  \n",
      "1471    1.259158       0.975950  \n",
      "1473    1.268595       0.978679  \n",
      "\n",
      "[944 rows x 10 columns]\n"
     ]
    }
   ],
   "source": [
    "selected_rules = rules[rules['leverage'] > 0.01]\n",
    "print(\"Selected Rules with Leverage > 0.01:\")\n",
    "print(selected_rules)"
   ]
  },
  {
   "cell_type": "markdown",
   "metadata": {},
   "source": [
    "**Step** Visualization"
   ]
  },
  {
   "cell_type": "code",
   "execution_count": 35,
   "metadata": {},
   "outputs": [
    {
     "data": {
      "image/png": "[encoded data removed]",
      "text/plain": [
       "<Figure size 1000x600 with 1 Axes>"
      ]
     },
     "metadata": {},
     "output_type": "display_data"
    }
   ],
   "source": [
    "import matplotlib.pyplot as plt\n",
    "import seaborn as sns\n",
    "rules = association_rules(frequent_itemsets, metric=\"support\", min_threshold=0.02)\n",
    "\n",
    "plt.figure(figsize=(10, 6))\n",
    "sns.scatterplot(x='confidence', y='leverage', data=rules)\n",
    "plt.title('Leverage vs. Confidence')\n",
    "plt.xlabel('Confidence')\n",
    "plt.ylabel('Leverage')\n",
    "plt.grid(True)\n",
    "plt.show()"
   ]
  }
 ],
 "metadata": {
  "kernelspec": {
   "display_name": "Python 3 (ipykernel)",
   "language": "python",
   "name": "python3"
  },
  "language_info": {
   "codemirror_mode": {
    "name": "ipython",
    "version": 3
   },
   "file_extension": ".py",
   "mimetype": "text/x-python",
   "name": "python",
   "nbconvert_exporter": "python",
   "pygments_lexer": "ipython3",
   "version": "3.11.5"
  }
 },
 "nbformat": 4,
 "nbformat_minor": 4
}
